{
 "cells": [
  {
   "cell_type": "raw",
   "id": "54e9415f-f1de-4957-8580-252df5813eb8",
   "metadata": {},
   "source": [
    "---\n",
    "title: \"Subsetting ICESat-2 Data Using NASA Harmony\"\n",
    "aliases:\n",
    "  - /tutorials/IS2_Harmony.html\n",
    "---"
   ]
  },
  {
   "cell_type": "markdown",
   "id": "c25e52f7-dae8-4246-a6e7-56606f50c343",
   "metadata": {},
   "source": [
    "## Aim for November 6 publication\n",
    "\n",
    "## TODO by Monday 28 October\n",
    "- check authentication\n",
    "- add option to get https link\n",
    "- prune imports"
   ]
  },
  {
   "cell_type": "markdown",
   "id": "b35db394-c8ba-4263-b7ba-0c1e8f8453b0",
   "metadata": {
    "jp-MarkdownHeadingCollapsed": true
   },
   "source": [
    "## Summary\n",
    "\n",
    "In this tutorial, we will use NASA's Earthdata Harmony Services to subset and access ICESat-2 data with the `harmony-py` Python library.  Harmony can be used to subset _any of the_(?) ICESat-2 data products.  In this tutorial, we will subset the ATL03 Geolocated Photon Dataset as an example.\n",
    "\n",
    "**What is Harmony?**  Harmony provides access (_is it a service?_) to a set of services that can subset, reproject and reformat NASA datasets.  Data can be subsetted for a geographic region, a temporal range and by variable.  Data can be \"reprojected\" from it's native coordinate reference system (CRS) to the coordinate reference system relevant to your analysis.  And data can be reformatted from it's native file format to a format that is more relevant for your application.  These services are collectively called _transformation services_.  However, not all services are available for all datasets.  You will learn how to discover which services are available for your dataset.\n",
    "\n",
    "Data transformed by Harmony services are staged on NASA Amazon Web Services (AWS) S3 buckets or on user-owned AWS S3 buckets.  Data in NASA S3 buckets are accessed using signed URLs or temporary access credentials.  This data can be downloaded to your local machine or you can access the data directly if you are working in an AWS cloud instance, such as a Jupyter Hub, in AWS `us-west-2`.  \n",
    "\n",
    "_Add links or provide background to terminology_\n",
    "\n",
    "_Stuff for later, maybe_\n",
    "Data in NASA’s Earthdata Cloud, including the subsetted data processed by Harmony, reside in Amazon Web Services (AWS) Simple Storage Service (S3) buckets. Access is provided via temporary credentials; this free access is limited to requests made within the US West (Oregon) (code: us-west-2) AWS region. While this compute location is required for direct S3 access, all data in Earthdata Cloud are still freely available via download.\n",
    "s-west-2 region. "
   ]
  },
  {
   "cell_type": "markdown",
   "id": "c43422fe-ae4a-40ea-9edf-11fa30596165",
   "metadata": {},
   "source": [
    "## Learning Objectives\n",
    "\n",
    "In this tutorial you will learn how to:\n",
    "\n",
    "1. discover Harmony service options ICESat-2 datasets;\n",
    "3. use the `harmony-py` library to subset ATL03 granules for a bounding box and time range;\n",
    "4. download the subsetted ATL03 to your local machine;\n",
    "5. load the subsetted ATL03 data directly into xarray."
   ]
  },
  {
   "cell_type": "markdown",
   "id": "c8a95244-4d35-4cde-b711-7d2e0ec8d580",
   "metadata": {},
   "source": [
    "## Prerequisites\n",
    "\n",
    "This tutorial has been designed to run in an AWS cloud compute instance in AWS region `us-west-2`.  However, if you want run it from your laptop or workstation, everything except Step-4, direct access, should work just fine.  _Also get https link_\n",
    "\n",
    "An [Earthdata Login](https://urs.earthdata.nasa.gov) account is required to access data from the NASA Earthdata system. Before requesting a subset of ICESat-2 data, we first need to set up our Earthdata Login authentication."
   ]
  },
  {
   "cell_type": "markdown",
   "id": "6968a5b2-c32b-446d-bce0-ab1cb57de62d",
   "metadata": {},
   "source": [
    "## Tutorial"
   ]
  },
  {
   "cell_type": "markdown",
   "id": "f89bf6e8-cb9a-4be8-96aa-7c61ae1a2d99",
   "metadata": {},
   "source": [
    "### Step 1: import required packages\n",
    "\n",
    "We'll be using `earthaccess`, `harmony-py` and `xarray`, along with some Python standard libraries. "
   ]
  },
  {
   "cell_type": "code",
   "execution_count": 20,
   "id": "9d8e9be7-c7ab-4e87-baae-0d516e1d9a37",
   "metadata": {},
   "outputs": [],
   "source": [
    "# Harmony services\n",
    "# `Environment` not required when in production\n",
    "from harmony import BBox, Client, Collection, Request, LinkType, CapabilitiesRequest, Environment \n",
    "\n",
    "# Earthdata Login Authentication\n",
    "import earthaccess \n",
    "\n",
    "# Load the data\n",
    "import xarray as xr\n",
    "\n",
    "#Remove Environment module when we are ready to switch to production. Including this for UAT notebook testing.\n",
    "import netrc\n",
    "import json\n",
    "import datetime as dt\n",
    "from pprint import pprint\n",
    "import s3fs\n",
    "\n",
    "from IPython.display import display, JSON"
   ]
  },
  {
   "cell_type": "markdown",
   "id": "86f8544a-658e-478d-903f-87bb0f76495c",
   "metadata": {},
   "source": [
    "### Step 2: start a Harmony client\n",
    "\n",
    "A Harmony client is the interface to Harmony services and is used to submit requests and retrieve the results of those requests.\n",
    "\n",
    "To create a Harmony Client we need to supply our Earthdata Login credentials.  We will use `earthaccess.login()` to do this.\n",
    "\n",
    ":::{note}\n",
    "`earthaccess.login()` will search for you Earthdata Login credentials stored as environment variables or in a `.netrc` file.  If no environment variables or `.netrc` file is found, we will be prompted for a _username_ and _password_.\n",
    "\n",
    "See the [`earthaccess` documentation](https://earthaccess.readthedocs.io/en/latest/user_guide/authenticate/) for more details.\n",
    ":::\n",
    "\n",
    "We only need to start the client once.  That client can then be used to discover what options are available for a dataset, request subsetting, check on the status of that request and retrieve the results."
   ]
  },
  {
   "cell_type": "code",
   "execution_count": 2,
   "id": "94650df1-161f-499d-a5be-4eff06a55e3a",
   "metadata": {},
   "outputs": [],
   "source": [
    "# auth = earthaccess.login()\n",
    "harmony_client = Client()  #auth=(auth.username, auth.password))"
   ]
  },
  {
   "attachments": {},
   "cell_type": "markdown",
   "id": "d79e241d-74a1-446f-85d9-e84e1adce707",
   "metadata": {},
   "source": [
    "### Step 3: discover service options for ICESAT-2\n",
    "\n",
    "The first thing we want to know is what service options Harmony has for the ICESat-2 dataset.  We discover service options for a dataset by submitting a `CapabilitiesRequest`.  \n",
    "\n",
    "A `CapabilitiesRequest` takes a single argument that is either the _Collection ID_ (also known as the _Concept ID_) or the _Short Name_ for the dataset.  A _Concept ID_ is a unique identifier for a dataset.  For ATL03 Version 6, it is C2596864127-NSIDC_CPRD.  For ICESat-2 products, the _Short Name_ is the familiar product name starting with ATL; e.g. ATL03.\n",
    "\n",
    "Submitting requests to Harmony will follow the same pattern, whether we are discovering capabilities or subsetting data.  We first create a request and then submit that request."
   ]
  },
  {
   "cell_type": "code",
   "execution_count": 3,
   "id": "21a1f815-b187-4059-a4ef-0337721da3e8",
   "metadata": {},
   "outputs": [],
   "source": [
    "short_name = \"ATL03\"\n",
    "capabilities_request = CapabilitiesRequest(short_name=short_name)"
   ]
  },
  {
   "cell_type": "markdown",
   "id": "a7ac0899-c629-48fc-93b5-2926ac2988b9",
   "metadata": {},
   "source": [
    "We then submit the request using the request method of the Harmony client."
   ]
  },
  {
   "cell_type": "code",
   "execution_count": 4,
   "id": "bc59afbe-e218-4240-8315-5f73a51e6125",
   "metadata": {},
   "outputs": [],
   "source": [
    "capabilities = harmony_client.submit(capabilities_request)"
   ]
  },
  {
   "cell_type": "markdown",
   "id": "f6e984f6-7758-496a-af24-12ca87b58bb6",
   "metadata": {},
   "source": [
    "The result is returned as a [JSON](https://en.wikipedia.org/wiki/JSON) string.  This string is human readable text but the format makes it hard to read the contents.  We can use the `json` library to _decode_ the string and print it in a more reader-friendly format.\n",
    "\n",
    ":::{warning}\n",
    "The JSON returned by capabilities can be very long if variable subsetting is an option and data\n",
    "files contains lots of variables.  However, information about subsetting service options should be in the first few lines of output.\n",
    ":::"
   ]
  },
  {
   "cell_type": "code",
   "execution_count": 21,
   "id": "20a8a6c4-095a-4aeb-8fc6-6ff96db182c7",
   "metadata": {
    "scrolled": true
   },
   "outputs": [
    {
     "data": {
      "application/json": {
       "bboxSubset": true,
       "capabilitiesVersion": "2",
       "concatenate": false,
       "conceptId": "C2596864127-NSIDC_CPRD",
       "outputFormats": [
        "application/x-hdf"
       ],
       "reproject": false,
       "services": [
        {
         "capabilities": {
          "output_formats": [
           "application/x-hdf"
          ],
          "subsetting": {
           "bbox": true,
           "shape": true,
           "temporal": true,
           "variable": true
          }
         },
         "href": "https://cmr.earthdata.nasa.gov/search/concepts/S2836723123-XYZ_PROV",
         "name": "sds/trajectory-subsetter"
        }
       ],
       "shapeSubset": true,
       "shortName": "ATL03",
       "variableSubset": false,
       "variables": []
      },
      "text/plain": [
       "<IPython.core.display.JSON object>"
      ]
     },
     "execution_count": 21,
     "metadata": {
      "application/json": {
       "expanded": false,
       "root": "root"
      }
     },
     "output_type": "execute_result"
    }
   ],
   "source": [
    "# print(json.dumps(capabilities, indent=2))\n",
    "JSON(capabilities)"
   ]
  },
  {
   "cell_type": "markdown",
   "id": "3e48c57a-7914-4df0-be72-7129afe9371d",
   "metadata": {},
   "source": [
    "The JSON response contains a list of transformation options available for each dataset: marked as `true` if available and `false` if not.  A list of Harmony service _endpoints_ and capabilities associated with the transformation options.  And a list of variables in the dataset if variable subsetting is available.\n",
    "\n",
    "For ATL03, you can see that only subsetting bounding box (`bboxSubset`) and subsetting by Shapefile (`shapeSubset`) are marked `true`.  Variable subsetting (`variableSubset`), concatenation (`concatenate`) and reprojection (`reproject`) are all `false`.   Bounding box and Shapefile subsetting are performed by the Trajectory Subsetter.  This subsetting routine outputs an HDF5 file."
   ]
  },
  {
   "cell_type": "markdown",
   "id": "258e04a7-4b96-4652-b523-9bbdef9f7f06",
   "metadata": {},
   "source": [
    "### Step 4: subset ICESat-2 ATL03 file\n",
    "\n",
    "Now that we know what subsetting options are available for for the ATL03 dataset, we can request a subsetted dataset.  "
   ]
  },
  {
   "cell_type": "markdown",
   "id": "319cd4c7-0b3c-4571-97d2-02c344aba418",
   "metadata": {},
   "source": [
    "#### Create A Subset Request\n",
    "\n",
    "we will create a simple request for subset of ATL03 for a bounding box over the northern Colorado Front Range and for the 2020-04-27 to 2020-05-28 period.\n",
    "\n",
    "![Bounding Box and ATL03 Ground Track for northern Colorado](images/atl03_ground_track_and_bbox.png)"
   ]
  },
  {
   "cell_type": "markdown",
   "id": "c1b953ba-e8cd-486f-8132-6cdbb69b656c",
   "metadata": {},
   "source": [
    "The spatial extent to subset is passed as a `BBox` object that defines the _minimum longitude_, _minimum latitude_, _maximum longitude_ and _maximum latitude_ in decimal degrees.\n",
    "\n",
    "The temporal range to subset is passed to Harmony as a dictionary with `\"start\"` and `\"stop\"` keys, and dates supplied as `datetime` objects.  \n",
    "\n",
    "Currently, ICESat-2 data only allows spatial and temporal subsetting so we only demonstrate these capabilities.  For further information on constructing a `Request` objects see the [harmony-py](https://harmony-py.readthedocs.io/en/latest/) documentation."
   ]
  },
  {
   "cell_type": "code",
   "execution_count": 9,
   "id": "5bb08390-ddb0-4356-905e-c0a3244b9247",
   "metadata": {},
   "outputs": [],
   "source": [
    "request = Request(\n",
    "  collection = Collection(id=capabilities[\"conceptId\"]),\n",
    "  spatial=BBox(-105.5,40,-105,41.),\n",
    "  temporal={\n",
    "    'start': dt.datetime(2020, 4, 27),\n",
    "    'stop': dt.datetime(2020, 5, 28)\n",
    "  }\n",
    ")"
   ]
  },
  {
   "cell_type": "markdown",
   "id": "34e01d68-0fd5-47c9-8757-d3fdc760dcf9",
   "metadata": {},
   "source": [
    "#### Submit the request\n",
    "\n",
    "The request is submitted in the same way as the Capabilities request.  This starts the subsetting process, which may take a while depending on the size of the request.  Submitting request returns a Job ID, which is a unique identifier for your request that is used to track the progress of the request and to access the results.\n",
    "\n",
    "If the request involves a lot of files (more than 300), Harmony will only process the first 300 files.  See section on [Handling Large Jobs](https://openscapes.2i2c.cloud/user/andypbarrett/lab/workspaces/auto-e/tree/earthdata-cloud-cookbook/tutorials/IS2_Harmony.ipynb#handling-large-requests) on how to work around this restriction. "
   ]
  },
  {
   "cell_type": "code",
   "execution_count": 7,
   "id": "c1c312bc-a986-4ebd-951f-c0d11208d19f",
   "metadata": {},
   "outputs": [
    {
     "data": {
      "text/plain": [
       "'2dd7cf22-a902-4eb8-8c0e-8d8cdd48b27c'"
      ]
     },
     "execution_count": 7,
     "metadata": {},
     "output_type": "execute_result"
    }
   ],
   "source": [
    "job_id = harmony_client.submit(request)\n",
    "job_id"
   ]
  },
  {
   "cell_type": "markdown",
   "id": "53982496-f3a6-4c46-a61f-f164157e119a",
   "metadata": {},
   "source": [
    "### Step 5: check the status of the request\n",
    "\n",
    "Subsetting is performed in the cloud.  For small jobs, the subsetting process can be monitored with a progress bar by submitting the `job_id` to the `wait_for_processing` method of the Harmony client."
   ]
  },
  {
   "cell_type": "code",
   "execution_count": 8,
   "id": "9b253c1e-da1e-4d14-883d-7fbd87834133",
   "metadata": {},
   "outputs": [
    {
     "name": "stderr",
     "output_type": "stream",
     "text": [
      " [ Processing: 100% ] |###################################################| [|]\n"
     ]
    }
   ],
   "source": [
    "harmony_client.wait_for_processing(job_id, show_progress=True)"
   ]
  },
  {
   "cell_type": "markdown",
   "id": "ff9542f8-2e64-457c-a98b-4e1ba0e757ea",
   "metadata": {},
   "source": [
    "Once the subsetting has finished, information about the job can be accessed as a JSON file"
   ]
  },
  {
   "cell_type": "code",
   "execution_count": 22,
   "id": "be41beda-a445-419f-9af2-080fb7e7b1d3",
   "metadata": {},
   "outputs": [
    {
     "data": {
      "application/json": {
       "createdAt": "2024-10-29T20:46:15.371Z",
       "dataExpiration": "2024-11-28T20:46:15.371Z",
       "jobID": "2dd7cf22-a902-4eb8-8c0e-8d8cdd48b27c",
       "labels": [],
       "links": [
        {
         "href": "https://harmony.earthdata.nasa.gov/stac/2dd7cf22-a902-4eb8-8c0e-8d8cdd48b27c/",
         "rel": "stac-catalog-json",
         "title": "STAC catalog",
         "type": "application/json"
        },
        {
         "bbox": [
          -108.28738,
          26.94838,
          -103.60569,
          59.54235
         ],
         "href": "https://harmony.earthdata.nasa.gov/service-results/harmony-prod-staging/public/2dd7cf22-a902-4eb8-8c0e-8d8cdd48b27c/79898885/ATL03_20200427193622_04930702_006_02_subsetted.h5",
         "rel": "data",
         "temporal": {
          "end": "2020-04-27T19:44:52.680Z",
          "start": "2020-04-27T19:36:22.028Z"
         },
         "title": "ATL03_20200427193622_04930702_006_02_subsetted.h5",
         "type": "application/x-hdf5"
        },
        {
         "href": "https://harmony.earthdata.nasa.gov/jobs/2dd7cf22-a902-4eb8-8c0e-8d8cdd48b27c?linktype=https&page=1&limit=2000",
         "rel": "self",
         "title": "The current page",
         "type": "application/json"
        }
       ],
       "message": "The job has completed successfully",
       "numInputGranules": 1,
       "progress": 100,
       "request": "https://harmony.earthdata.nasa.gov/C2596864127-NSIDC_CPRD/ogc-api-coverages/1.0.0/collections/all/coverage/rangeset?forceAsync=true&subset=lat(40%3A41.0)&subset=lon(-105.5%3A-105)&subset=time(%222020-04-27T00%3A00%3A00%22%3A%222020-05-28T00%3A00%3A00%22)",
       "status": "successful",
       "updatedAt": "2024-10-29T20:48:52.599Z",
       "username": "apbarret"
      },
      "text/plain": [
       "<IPython.core.display.JSON object>"
      ]
     },
     "execution_count": 22,
     "metadata": {
      "application/json": {
       "expanded": false,
       "root": "root"
      }
     },
     "output_type": "execute_result"
    }
   ],
   "source": [
    "job_summary = harmony_client.result_json(job_id)\n",
    "# pprint(job_summary)\n",
    "JSON(job_summary)"
   ]
  },
  {
   "cell_type": "markdown",
   "id": "421391bc-f996-4dbb-a69d-ac7d40d67243",
   "metadata": {},
   "source": [
    "### Step 6: access the subsetted data\n",
    "\n",
    "The subsetted files can be accessed by downloading the files to a local machine, such as a laptop or desktop workstation, or by _streaming_ the data.  We will use both access methods in the two examples below.\n",
    "\n",
    "Results are staged for 30 days  Explain where these are stored!"
   ]
  },
  {
   "cell_type": "markdown",
   "id": "120e006a-071e-4bd9-8115-ccd1cc5aac52",
   "metadata": {},
   "source": [
    "#### Download a single file\n",
    "\n",
    "The _download_ method takes a url to a single subsetted file.  The `directory` keyword is used to specify a download path.  The default is the current working directory (`.`).  Setting `overwrite` to False avoids downloading the same file twice.  If you need to download the file again, then set `overwrite=True`.\n",
    "\n",
    ":::{note}\n",
    "The `download` and `download_all` method are [_asynchronous_](https://en.wikipedia.org/wiki/Asynchrony_(computer_programming)), so that downloading each file is performed independently.  Once the downloads are completed, the filepaths for the downloaded file are accessed using the `result` method.\n",
    ":::"
   ]
  },
  {
   "cell_type": "code",
   "execution_count": 11,
   "id": "2e8f110a-4aa3-4bec-9ac3-65eef9f0e4aa",
   "metadata": {},
   "outputs": [
    {
     "name": "stdout",
     "output_type": "stream",
     "text": [
      "./ATL03_20200427193622_04930702_006_02_subsetted.h5\n",
      "./ATL03_20200427193622_04930702_006_02_subsetted.h5\n",
      "./ATL03_20200427193622_04930702_006_02_subsetted.h5\n"
     ]
    }
   ],
   "source": [
    "url = list(harmony_client.result_urls(job_id))[0]  # Get the data url of the first file\n",
    "filepath = harmony_client.download(url, directory=\".\", overwrite=False).result()\n",
    "print(filepath)"
   ]
  },
  {
   "cell_type": "markdown",
   "id": "4876c8ac-c822-4bae-b4fd-462026330040",
   "metadata": {},
   "source": [
    "#### Download all files\n",
    "\n",
    "The `download_all` method can use the _job-id_ or the _result-json_, which contains result urls.  \n",
    "\n",
    "As with `download`, the download directory path on the local machine can be specified with the `directory` keyword.  To save downloading the same file, the `overwrite` keyword can be set to False. "
   ]
  },
  {
   "cell_type": "code",
   "execution_count": 12,
   "id": "951581ed-03a3-4aa2-b147-ed2054b75905",
   "metadata": {},
   "outputs": [
    {
     "name": "stdout",
     "output_type": "stream",
     "text": [
      "['./ATL03_20200427193622_04930702_006_02_subsetted.h5']\n"
     ]
    }
   ],
   "source": [
    "futures = harmony_client.download_all(job_id, directory=\".\", overwrite=False)\n",
    "filelist = [f.result() for f in futures]  # get filepaths\n",
    "print(filelist)"
   ]
  },
  {
   "cell_type": "markdown",
   "id": "acba9b5d-d4f6-4287-ac7d-3e7e1c70740b",
   "metadata": {},
   "source": [
    "#### Load a file into an `xarray` dataset\n",
    "\n",
    "The simplest way to load ICESat-2 data is to use `xarray`.\n",
    "\n",
    ":::{note}\n",
    "You could also load the data into a `geopandas.GeoDataframe`\n",
    ":::"
   ]
  },
  {
   "cell_type": "code",
   "execution_count": 13,
   "id": "ae13153c-2968-44c1-a668-0f72f07a7d8c",
   "metadata": {},
   "outputs": [
    {
     "data": {
      "text/html": [
       "<div><svg style=\"position: absolute; width: 0; height: 0; overflow: hidden\">\n",
       "<defs>\n",
       "<symbol id=\"icon-database\" viewBox=\"0 0 32 32\">\n",
       "<path d=\"M16 0c-8.837 0-16 2.239-16 5v4c0 2.761 7.163 5 16 5s16-2.239 16-5v-4c0-2.761-7.163-5-16-5z\"></path>\n",
       "<path d=\"M16 17c-8.837 0-16-2.239-16-5v6c0 2.761 7.163 5 16 5s16-2.239 16-5v-6c0 2.761-7.163 5-16 5z\"></path>\n",
       "<path d=\"M16 26c-8.837 0-16-2.239-16-5v6c0 2.761 7.163 5 16 5s16-2.239 16-5v-6c0 2.761-7.163 5-16 5z\"></path>\n",
       "</symbol>\n",
       "<symbol id=\"icon-file-text2\" viewBox=\"0 0 32 32\">\n",
       "<path d=\"M28.681 7.159c-0.694-0.947-1.662-2.053-2.724-3.116s-2.169-2.030-3.116-2.724c-1.612-1.182-2.393-1.319-2.841-1.319h-15.5c-1.378 0-2.5 1.121-2.5 2.5v27c0 1.378 1.122 2.5 2.5 2.5h23c1.378 0 2.5-1.122 2.5-2.5v-19.5c0-0.448-0.137-1.23-1.319-2.841zM24.543 5.457c0.959 0.959 1.712 1.825 2.268 2.543h-4.811v-4.811c0.718 0.556 1.584 1.309 2.543 2.268zM28 29.5c0 0.271-0.229 0.5-0.5 0.5h-23c-0.271 0-0.5-0.229-0.5-0.5v-27c0-0.271 0.229-0.5 0.5-0.5 0 0 15.499-0 15.5 0v7c0 0.552 0.448 1 1 1h7v19.5z\"></path>\n",
       "<path d=\"M23 26h-14c-0.552 0-1-0.448-1-1s0.448-1 1-1h14c0.552 0 1 0.448 1 1s-0.448 1-1 1z\"></path>\n",
       "<path d=\"M23 22h-14c-0.552 0-1-0.448-1-1s0.448-1 1-1h14c0.552 0 1 0.448 1 1s-0.448 1-1 1z\"></path>\n",
       "<path d=\"M23 18h-14c-0.552 0-1-0.448-1-1s0.448-1 1-1h14c0.552 0 1 0.448 1 1s-0.448 1-1 1z\"></path>\n",
       "</symbol>\n",
       "</defs>\n",
       "</svg>\n",
       "<style>/* CSS stylesheet for displaying xarray objects in jupyterlab.\n",
       " *\n",
       " */\n",
       "\n",
       ":root {\n",
       "  --xr-font-color0: var(--jp-content-font-color0, rgba(0, 0, 0, 1));\n",
       "  --xr-font-color2: var(--jp-content-font-color2, rgba(0, 0, 0, 0.54));\n",
       "  --xr-font-color3: var(--jp-content-font-color3, rgba(0, 0, 0, 0.38));\n",
       "  --xr-border-color: var(--jp-border-color2, #e0e0e0);\n",
       "  --xr-disabled-color: var(--jp-layout-color3, #bdbdbd);\n",
       "  --xr-background-color: var(--jp-layout-color0, white);\n",
       "  --xr-background-color-row-even: var(--jp-layout-color1, white);\n",
       "  --xr-background-color-row-odd: var(--jp-layout-color2, #eeeeee);\n",
       "}\n",
       "\n",
       "html[theme=dark],\n",
       "body[data-theme=dark],\n",
       "body.vscode-dark {\n",
       "  --xr-font-color0: rgba(255, 255, 255, 1);\n",
       "  --xr-font-color2: rgba(255, 255, 255, 0.54);\n",
       "  --xr-font-color3: rgba(255, 255, 255, 0.38);\n",
       "  --xr-border-color: #1F1F1F;\n",
       "  --xr-disabled-color: #515151;\n",
       "  --xr-background-color: #111111;\n",
       "  --xr-background-color-row-even: #111111;\n",
       "  --xr-background-color-row-odd: #313131;\n",
       "}\n",
       "\n",
       ".xr-wrap {\n",
       "  display: block !important;\n",
       "  min-width: 300px;\n",
       "  max-width: 700px;\n",
       "}\n",
       "\n",
       ".xr-text-repr-fallback {\n",
       "  /* fallback to plain text repr when CSS is not injected (untrusted notebook) */\n",
       "  display: none;\n",
       "}\n",
       "\n",
       ".xr-header {\n",
       "  padding-top: 6px;\n",
       "  padding-bottom: 6px;\n",
       "  margin-bottom: 4px;\n",
       "  border-bottom: solid 1px var(--xr-border-color);\n",
       "}\n",
       "\n",
       ".xr-header > div,\n",
       ".xr-header > ul {\n",
       "  display: inline;\n",
       "  margin-top: 0;\n",
       "  margin-bottom: 0;\n",
       "}\n",
       "\n",
       ".xr-obj-type,\n",
       ".xr-array-name {\n",
       "  margin-left: 2px;\n",
       "  margin-right: 10px;\n",
       "}\n",
       "\n",
       ".xr-obj-type {\n",
       "  color: var(--xr-font-color2);\n",
       "}\n",
       "\n",
       ".xr-sections {\n",
       "  padding-left: 0 !important;\n",
       "  display: grid;\n",
       "  grid-template-columns: 150px auto auto 1fr 20px 20px;\n",
       "}\n",
       "\n",
       ".xr-section-item {\n",
       "  display: contents;\n",
       "}\n",
       "\n",
       ".xr-section-item input {\n",
       "  display: none;\n",
       "}\n",
       "\n",
       ".xr-section-item input + label {\n",
       "  color: var(--xr-disabled-color);\n",
       "}\n",
       "\n",
       ".xr-section-item input:enabled + label {\n",
       "  cursor: pointer;\n",
       "  color: var(--xr-font-color2);\n",
       "}\n",
       "\n",
       ".xr-section-item input:enabled + label:hover {\n",
       "  color: var(--xr-font-color0);\n",
       "}\n",
       "\n",
       ".xr-section-summary {\n",
       "  grid-column: 1;\n",
       "  color: var(--xr-font-color2);\n",
       "  font-weight: 500;\n",
       "}\n",
       "\n",
       ".xr-section-summary > span {\n",
       "  display: inline-block;\n",
       "  padding-left: 0.5em;\n",
       "}\n",
       "\n",
       ".xr-section-summary-in:disabled + label {\n",
       "  color: var(--xr-font-color2);\n",
       "}\n",
       "\n",
       ".xr-section-summary-in + label:before {\n",
       "  display: inline-block;\n",
       "  content: '►';\n",
       "  font-size: 11px;\n",
       "  width: 15px;\n",
       "  text-align: center;\n",
       "}\n",
       "\n",
       ".xr-section-summary-in:disabled + label:before {\n",
       "  color: var(--xr-disabled-color);\n",
       "}\n",
       "\n",
       ".xr-section-summary-in:checked + label:before {\n",
       "  content: '▼';\n",
       "}\n",
       "\n",
       ".xr-section-summary-in:checked + label > span {\n",
       "  display: none;\n",
       "}\n",
       "\n",
       ".xr-section-summary,\n",
       ".xr-section-inline-details {\n",
       "  padding-top: 4px;\n",
       "  padding-bottom: 4px;\n",
       "}\n",
       "\n",
       ".xr-section-inline-details {\n",
       "  grid-column: 2 / -1;\n",
       "}\n",
       "\n",
       ".xr-section-details {\n",
       "  display: none;\n",
       "  grid-column: 1 / -1;\n",
       "  margin-bottom: 5px;\n",
       "}\n",
       "\n",
       ".xr-section-summary-in:checked ~ .xr-section-details {\n",
       "  display: contents;\n",
       "}\n",
       "\n",
       ".xr-array-wrap {\n",
       "  grid-column: 1 / -1;\n",
       "  display: grid;\n",
       "  grid-template-columns: 20px auto;\n",
       "}\n",
       "\n",
       ".xr-array-wrap > label {\n",
       "  grid-column: 1;\n",
       "  vertical-align: top;\n",
       "}\n",
       "\n",
       ".xr-preview {\n",
       "  color: var(--xr-font-color3);\n",
       "}\n",
       "\n",
       ".xr-array-preview,\n",
       ".xr-array-data {\n",
       "  padding: 0 5px !important;\n",
       "  grid-column: 2;\n",
       "}\n",
       "\n",
       ".xr-array-data,\n",
       ".xr-array-in:checked ~ .xr-array-preview {\n",
       "  display: none;\n",
       "}\n",
       "\n",
       ".xr-array-in:checked ~ .xr-array-data,\n",
       ".xr-array-preview {\n",
       "  display: inline-block;\n",
       "}\n",
       "\n",
       ".xr-dim-list {\n",
       "  display: inline-block !important;\n",
       "  list-style: none;\n",
       "  padding: 0 !important;\n",
       "  margin: 0;\n",
       "}\n",
       "\n",
       ".xr-dim-list li {\n",
       "  display: inline-block;\n",
       "  padding: 0;\n",
       "  margin: 0;\n",
       "}\n",
       "\n",
       ".xr-dim-list:before {\n",
       "  content: '(';\n",
       "}\n",
       "\n",
       ".xr-dim-list:after {\n",
       "  content: ')';\n",
       "}\n",
       "\n",
       ".xr-dim-list li:not(:last-child):after {\n",
       "  content: ',';\n",
       "  padding-right: 5px;\n",
       "}\n",
       "\n",
       ".xr-has-index {\n",
       "  font-weight: bold;\n",
       "}\n",
       "\n",
       ".xr-var-list,\n",
       ".xr-var-item {\n",
       "  display: contents;\n",
       "}\n",
       "\n",
       ".xr-var-item > div,\n",
       ".xr-var-item label,\n",
       ".xr-var-item > .xr-var-name span {\n",
       "  background-color: var(--xr-background-color-row-even);\n",
       "  margin-bottom: 0;\n",
       "}\n",
       "\n",
       ".xr-var-item > .xr-var-name:hover span {\n",
       "  padding-right: 5px;\n",
       "}\n",
       "\n",
       ".xr-var-list > li:nth-child(odd) > div,\n",
       ".xr-var-list > li:nth-child(odd) > label,\n",
       ".xr-var-list > li:nth-child(odd) > .xr-var-name span {\n",
       "  background-color: var(--xr-background-color-row-odd);\n",
       "}\n",
       "\n",
       ".xr-var-name {\n",
       "  grid-column: 1;\n",
       "}\n",
       "\n",
       ".xr-var-dims {\n",
       "  grid-column: 2;\n",
       "}\n",
       "\n",
       ".xr-var-dtype {\n",
       "  grid-column: 3;\n",
       "  text-align: right;\n",
       "  color: var(--xr-font-color2);\n",
       "}\n",
       "\n",
       ".xr-var-preview {\n",
       "  grid-column: 4;\n",
       "}\n",
       "\n",
       ".xr-index-preview {\n",
       "  grid-column: 2 / 5;\n",
       "  color: var(--xr-font-color2);\n",
       "}\n",
       "\n",
       ".xr-var-name,\n",
       ".xr-var-dims,\n",
       ".xr-var-dtype,\n",
       ".xr-preview,\n",
       ".xr-attrs dt {\n",
       "  white-space: nowrap;\n",
       "  overflow: hidden;\n",
       "  text-overflow: ellipsis;\n",
       "  padding-right: 10px;\n",
       "}\n",
       "\n",
       ".xr-var-name:hover,\n",
       ".xr-var-dims:hover,\n",
       ".xr-var-dtype:hover,\n",
       ".xr-attrs dt:hover {\n",
       "  overflow: visible;\n",
       "  width: auto;\n",
       "  z-index: 1;\n",
       "}\n",
       "\n",
       ".xr-var-attrs,\n",
       ".xr-var-data,\n",
       ".xr-index-data {\n",
       "  display: none;\n",
       "  background-color: var(--xr-background-color) !important;\n",
       "  padding-bottom: 5px !important;\n",
       "}\n",
       "\n",
       ".xr-var-attrs-in:checked ~ .xr-var-attrs,\n",
       ".xr-var-data-in:checked ~ .xr-var-data,\n",
       ".xr-index-data-in:checked ~ .xr-index-data {\n",
       "  display: block;\n",
       "}\n",
       "\n",
       ".xr-var-data > table {\n",
       "  float: right;\n",
       "}\n",
       "\n",
       ".xr-var-name span,\n",
       ".xr-var-data,\n",
       ".xr-index-name div,\n",
       ".xr-index-data,\n",
       ".xr-attrs {\n",
       "  padding-left: 25px !important;\n",
       "}\n",
       "\n",
       ".xr-attrs,\n",
       ".xr-var-attrs,\n",
       ".xr-var-data,\n",
       ".xr-index-data {\n",
       "  grid-column: 1 / -1;\n",
       "}\n",
       "\n",
       "dl.xr-attrs {\n",
       "  padding: 0;\n",
       "  margin: 0;\n",
       "  display: grid;\n",
       "  grid-template-columns: 125px auto;\n",
       "}\n",
       "\n",
       ".xr-attrs dt,\n",
       ".xr-attrs dd {\n",
       "  padding: 0;\n",
       "  margin: 0;\n",
       "  float: left;\n",
       "  padding-right: 10px;\n",
       "  width: auto;\n",
       "}\n",
       "\n",
       ".xr-attrs dt {\n",
       "  font-weight: normal;\n",
       "  grid-column: 1;\n",
       "}\n",
       "\n",
       ".xr-attrs dt:hover span {\n",
       "  display: inline-block;\n",
       "  background: var(--xr-background-color);\n",
       "  padding-right: 10px;\n",
       "}\n",
       "\n",
       ".xr-attrs dd {\n",
       "  grid-column: 2;\n",
       "  white-space: pre-wrap;\n",
       "  word-break: break-all;\n",
       "}\n",
       "\n",
       ".xr-icon-database,\n",
       ".xr-icon-file-text2,\n",
       ".xr-no-icon {\n",
       "  display: inline-block;\n",
       "  vertical-align: middle;\n",
       "  width: 1em;\n",
       "  height: 1.5em !important;\n",
       "  stroke-width: 0;\n",
       "  stroke: currentColor;\n",
       "  fill: currentColor;\n",
       "}\n",
       "</style><pre class='xr-text-repr-fallback'>&lt;xarray.Dataset&gt; Size: 92MB\n",
       "Dimensions:         (delta_time: 1848992, ds_surf_type: 5)\n",
       "Coordinates:\n",
       "  * delta_time      (delta_time) datetime64[ns] 15MB 2020-04-27T19:39:45.8497...\n",
       "    lat_ph          (delta_time) float64 15MB ...\n",
       "    lon_ph          (delta_time) float64 15MB ...\n",
       "Dimensions without coordinates: ds_surf_type\n",
       "Data variables:\n",
       "    dist_ph_across  (delta_time) float32 7MB ...\n",
       "    dist_ph_along   (delta_time) float32 7MB ...\n",
       "    h_ph            (delta_time) float32 7MB ...\n",
       "    pce_mframe_cnt  (delta_time) uint32 7MB ...\n",
       "    ph_id_channel   (delta_time) uint8 2MB ...\n",
       "    ph_id_count     (delta_time) uint8 2MB ...\n",
       "    ph_id_pulse     (delta_time) uint8 2MB ...\n",
       "    quality_ph      (delta_time) int8 2MB ...\n",
       "    signal_conf_ph  (delta_time, ds_surf_type) int8 9MB ...\n",
       "    weight_ph       (delta_time) uint8 2MB ...\n",
       "Attributes:\n",
       "    Description:  Contains arrays of the parameters for each received photon.\n",
       "    data_rate:    Data are stored at the photon detection rate.</pre><div class='xr-wrap' style='display:none'><div class='xr-header'><div class='xr-obj-type'>xarray.Dataset</div></div><ul class='xr-sections'><li class='xr-section-item'><input id='section-78b1332b-b297-42c1-8125-59383de7c1b7' class='xr-section-summary-in' type='checkbox' disabled ><label for='section-78b1332b-b297-42c1-8125-59383de7c1b7' class='xr-section-summary'  title='Expand/collapse section'>Dimensions:</label><div class='xr-section-inline-details'><ul class='xr-dim-list'><li><span class='xr-has-index'>delta_time</span>: 1848992</li><li><span>ds_surf_type</span>: 5</li></ul></div><div class='xr-section-details'></div></li><li class='xr-section-item'><input id='section-fe41147c-a38a-40f0-b3ec-106e0f03d925' class='xr-section-summary-in' type='checkbox'  checked><label for='section-fe41147c-a38a-40f0-b3ec-106e0f03d925' class='xr-section-summary' >Coordinates: <span>(3)</span></label><div class='xr-section-inline-details'></div><div class='xr-section-details'><ul class='xr-var-list'><li class='xr-var-item'><div class='xr-var-name'><span class='xr-has-index'>delta_time</span></div><div class='xr-var-dims'>(delta_time)</div><div class='xr-var-dtype'>datetime64[ns]</div><div class='xr-var-preview xr-preview'>2020-04-27T19:39:45.849764816 .....</div><input id='attrs-4f02a491-1d66-4ab2-8d84-dbe0013ca45c' class='xr-var-attrs-in' type='checkbox' ><label for='attrs-4f02a491-1d66-4ab2-8d84-dbe0013ca45c' title='Show/Hide attributes'><svg class='icon xr-icon-file-text2'><use xlink:href='#icon-file-text2'></use></svg></label><input id='data-ab8e4c80-740a-466a-bd98-a8193252d14c' class='xr-var-data-in' type='checkbox'><label for='data-ab8e4c80-740a-466a-bd98-a8193252d14c' title='Show/Hide data repr'><svg class='icon xr-icon-database'><use xlink:href='#icon-database'></use></svg></label><div class='xr-var-attrs'><dl class='xr-attrs'><dt><span>long_name :</span></dt><dd>Elapsed GPS seconds</dd><dt><span>standard_name :</span></dt><dd>time</dd><dt><span>source :</span></dt><dd>Operations</dd><dt><span>contentType :</span></dt><dd>referenceInformation</dd><dt><span>description :</span></dt><dd>The transmit time of a given photon, measured in seconds from the ATLAS Standard Data Product Epoch. Note that multiple received photons associated with a single transmit pulse will have the same delta_time. The ATLAS Standard Data Products (SDP) epoch offset is defined within /ancillary_data/atlas_sdp_gps_epoch as the number of GPS seconds between the GPS epoch (1980-01-06T00:00:00.000000Z UTC) and the ATLAS SDP epoch. By adding the offset contained within atlas_sdp_gps_epoch to delta time parameters, the time in gps_seconds relative to the GPS epoch can be computed.</dd></dl></div><div class='xr-var-data'><pre>array([&#x27;2020-04-27T19:39:45.849764816&#x27;, &#x27;2020-04-27T19:39:45.849764816&#x27;,\n",
       "       &#x27;2020-04-27T19:39:45.849764816&#x27;, ..., &#x27;2020-04-27T19:40:01.537665200&#x27;,\n",
       "       &#x27;2020-04-27T19:40:01.537665200&#x27;, &#x27;2020-04-27T19:40:01.537665200&#x27;],\n",
       "      dtype=&#x27;datetime64[ns]&#x27;)</pre></div></li><li class='xr-var-item'><div class='xr-var-name'><span>lat_ph</span></div><div class='xr-var-dims'>(delta_time)</div><div class='xr-var-dtype'>float64</div><div class='xr-var-preview xr-preview'>...</div><input id='attrs-6cb6695c-3e6a-4df5-8ba1-30df8a47ed09' class='xr-var-attrs-in' type='checkbox' ><label for='attrs-6cb6695c-3e6a-4df5-8ba1-30df8a47ed09' title='Show/Hide attributes'><svg class='icon xr-icon-file-text2'><use xlink:href='#icon-file-text2'></use></svg></label><input id='data-8392ee5b-5437-4790-b639-93742db7d641' class='xr-var-data-in' type='checkbox'><label for='data-8392ee5b-5437-4790-b639-93742db7d641' title='Show/Hide data repr'><svg class='icon xr-icon-database'><use xlink:href='#icon-database'></use></svg></label><div class='xr-var-attrs'><dl class='xr-attrs'><dt><span>long_name :</span></dt><dd>Latitude</dd><dt><span>valid_max :</span></dt><dd>90.0</dd><dt><span>standard_name :</span></dt><dd>latitude</dd><dt><span>source :</span></dt><dd>ATL03g ATBD, Section 3.4</dd><dt><span>units :</span></dt><dd>degrees_north</dd><dt><span>contentType :</span></dt><dd>modelResult</dd><dt><span>valid_min :</span></dt><dd>-90.0</dd><dt><span>description :</span></dt><dd>Latitude of each received photon. Computed from the ECF Cartesian coordinates of the bounce point.</dd></dl></div><div class='xr-var-data'><pre>[1848992 values with dtype=float64]</pre></div></li><li class='xr-var-item'><div class='xr-var-name'><span>lon_ph</span></div><div class='xr-var-dims'>(delta_time)</div><div class='xr-var-dtype'>float64</div><div class='xr-var-preview xr-preview'>...</div><input id='attrs-9e01d4fc-21b5-4922-b918-474b14de1f10' class='xr-var-attrs-in' type='checkbox' ><label for='attrs-9e01d4fc-21b5-4922-b918-474b14de1f10' title='Show/Hide attributes'><svg class='icon xr-icon-file-text2'><use xlink:href='#icon-file-text2'></use></svg></label><input id='data-9ae1b38d-4452-4c14-9b9f-e353cad29091' class='xr-var-data-in' type='checkbox'><label for='data-9ae1b38d-4452-4c14-9b9f-e353cad29091' title='Show/Hide data repr'><svg class='icon xr-icon-database'><use xlink:href='#icon-database'></use></svg></label><div class='xr-var-attrs'><dl class='xr-attrs'><dt><span>long_name :</span></dt><dd>Longitude</dd><dt><span>valid_max :</span></dt><dd>180.0</dd><dt><span>standard_name :</span></dt><dd>longitude</dd><dt><span>source :</span></dt><dd>ATL03g ATBD, Section 3.4</dd><dt><span>units :</span></dt><dd>degrees_east</dd><dt><span>contentType :</span></dt><dd>modelResult</dd><dt><span>valid_min :</span></dt><dd>-180.0</dd><dt><span>description :</span></dt><dd>Longitude of each received photon. Computed from the ECF Cartesian coordinates of the bounce point.</dd></dl></div><div class='xr-var-data'><pre>[1848992 values with dtype=float64]</pre></div></li></ul></div></li><li class='xr-section-item'><input id='section-d712a3f1-f0be-4ede-bd33-073f6ee3feb2' class='xr-section-summary-in' type='checkbox'  checked><label for='section-d712a3f1-f0be-4ede-bd33-073f6ee3feb2' class='xr-section-summary' >Data variables: <span>(10)</span></label><div class='xr-section-inline-details'></div><div class='xr-section-details'><ul class='xr-var-list'><li class='xr-var-item'><div class='xr-var-name'><span>dist_ph_across</span></div><div class='xr-var-dims'>(delta_time)</div><div class='xr-var-dtype'>float32</div><div class='xr-var-preview xr-preview'>...</div><input id='attrs-0e0b3f75-d308-499b-943b-4a5f42822e73' class='xr-var-attrs-in' type='checkbox' ><label for='attrs-0e0b3f75-d308-499b-943b-4a5f42822e73' title='Show/Hide attributes'><svg class='icon xr-icon-file-text2'><use xlink:href='#icon-file-text2'></use></svg></label><input id='data-bed911ca-0329-41d3-9fce-256aed5ba009' class='xr-var-data-in' type='checkbox'><label for='data-bed911ca-0329-41d3-9fce-256aed5ba009' title='Show/Hide data repr'><svg class='icon xr-icon-database'><use xlink:href='#icon-database'></use></svg></label><div class='xr-var-attrs'><dl class='xr-attrs'><dt><span>long_name :</span></dt><dd>Distance off RGT.</dd><dt><span>units :</span></dt><dd>meters</dd><dt><span>source :</span></dt><dd>ATL03 ATBD, Section 3.1</dd><dt><span>contentType :</span></dt><dd>modelResult</dd><dt><span>description :</span></dt><dd>Across-track distance projected to the ellipsoid of the received photon from the reference ground track.  This is based on the Along-Track Segment algorithm described in Section 3.1.</dd></dl></div><div class='xr-var-data'><pre>[1848992 values with dtype=float32]</pre></div></li><li class='xr-var-item'><div class='xr-var-name'><span>dist_ph_along</span></div><div class='xr-var-dims'>(delta_time)</div><div class='xr-var-dtype'>float32</div><div class='xr-var-preview xr-preview'>...</div><input id='attrs-6726d4c9-64c4-4232-bda3-2f6aa1375c8b' class='xr-var-attrs-in' type='checkbox' ><label for='attrs-6726d4c9-64c4-4232-bda3-2f6aa1375c8b' title='Show/Hide attributes'><svg class='icon xr-icon-file-text2'><use xlink:href='#icon-file-text2'></use></svg></label><input id='data-bf54a706-b647-487c-ac7a-4e3d6c4ed489' class='xr-var-data-in' type='checkbox'><label for='data-bf54a706-b647-487c-ac7a-4e3d6c4ed489' title='Show/Hide data repr'><svg class='icon xr-icon-database'><use xlink:href='#icon-database'></use></svg></label><div class='xr-var-attrs'><dl class='xr-attrs'><dt><span>long_name :</span></dt><dd>Distance from equator crossing.</dd><dt><span>units :</span></dt><dd>meters</dd><dt><span>source :</span></dt><dd>ATL03 ATBD, Section 3.1</dd><dt><span>contentType :</span></dt><dd>modelResult</dd><dt><span>description :</span></dt><dd>Along-track distance in a segment projected to the ellipsoid of the received photon, based on the Along-Track Segment algorithm.  Total along track distance can be found by adding this value to the sum of segment lengths measured from the start of the most recent reference groundtrack.</dd></dl></div><div class='xr-var-data'><pre>[1848992 values with dtype=float32]</pre></div></li><li class='xr-var-item'><div class='xr-var-name'><span>h_ph</span></div><div class='xr-var-dims'>(delta_time)</div><div class='xr-var-dtype'>float32</div><div class='xr-var-preview xr-preview'>...</div><input id='attrs-53f2ec56-9873-4fa8-9518-9e49301d7e45' class='xr-var-attrs-in' type='checkbox' ><label for='attrs-53f2ec56-9873-4fa8-9518-9e49301d7e45' title='Show/Hide attributes'><svg class='icon xr-icon-file-text2'><use xlink:href='#icon-file-text2'></use></svg></label><input id='data-f75c7d74-374c-4a69-8772-8e8c2d7256d9' class='xr-var-data-in' type='checkbox'><label for='data-f75c7d74-374c-4a69-8772-8e8c2d7256d9' title='Show/Hide data repr'><svg class='icon xr-icon-database'><use xlink:href='#icon-database'></use></svg></label><div class='xr-var-attrs'><dl class='xr-attrs'><dt><span>long_name :</span></dt><dd>Photon WGS84 Height</dd><dt><span>standard_name :</span></dt><dd>height</dd><dt><span>units :</span></dt><dd>meters</dd><dt><span>source :</span></dt><dd>ATL03g ATBD, Section 3.4</dd><dt><span>contentType :</span></dt><dd>physicalMeasurement</dd><dt><span>description :</span></dt><dd>Height of each received photon, relative to the WGS-84 ellipsoid including the geophysical corrections noted in Section 6. Please note that neither the geoid, ocean tide nor the dynamic atmosphere (DAC) corrections are applied to the ellipsoidal heights.</dd></dl></div><div class='xr-var-data'><pre>[1848992 values with dtype=float32]</pre></div></li><li class='xr-var-item'><div class='xr-var-name'><span>pce_mframe_cnt</span></div><div class='xr-var-dims'>(delta_time)</div><div class='xr-var-dtype'>uint32</div><div class='xr-var-preview xr-preview'>...</div><input id='attrs-f579750a-90e3-4443-9e33-0941e456f41b' class='xr-var-attrs-in' type='checkbox' ><label for='attrs-f579750a-90e3-4443-9e33-0941e456f41b' title='Show/Hide attributes'><svg class='icon xr-icon-file-text2'><use xlink:href='#icon-file-text2'></use></svg></label><input id='data-c605dfe5-a657-4390-9162-ef34e8469138' class='xr-var-data-in' type='checkbox'><label for='data-c605dfe5-a657-4390-9162-ef34e8469138' title='Show/Hide data repr'><svg class='icon xr-icon-database'><use xlink:href='#icon-database'></use></svg></label><div class='xr-var-attrs'><dl class='xr-attrs'><dt><span>long_name :</span></dt><dd>PCE Major frame counter</dd><dt><span>units :</span></dt><dd>counts</dd><dt><span>source :</span></dt><dd>Retained from prior a_alt_science_ph packet</dd><dt><span>contentType :</span></dt><dd>referenceInformation</dd><dt><span>description :</span></dt><dd>The major frame counter is read from the digital flow controller in a given PCE card.  The counter identifies individual major frames across diag and science packets. Used as part of the photon ID.</dd></dl></div><div class='xr-var-data'><pre>[1848992 values with dtype=uint32]</pre></div></li><li class='xr-var-item'><div class='xr-var-name'><span>ph_id_channel</span></div><div class='xr-var-dims'>(delta_time)</div><div class='xr-var-dtype'>uint8</div><div class='xr-var-preview xr-preview'>...</div><input id='attrs-455c460f-4dfd-4b18-85fa-5b6b6861c621' class='xr-var-attrs-in' type='checkbox' ><label for='attrs-455c460f-4dfd-4b18-85fa-5b6b6861c621' title='Show/Hide attributes'><svg class='icon xr-icon-file-text2'><use xlink:href='#icon-file-text2'></use></svg></label><input id='data-f8c6999a-93e1-451a-9968-4fbfd4473f01' class='xr-var-data-in' type='checkbox'><label for='data-f8c6999a-93e1-451a-9968-4fbfd4473f01' title='Show/Hide data repr'><svg class='icon xr-icon-database'><use xlink:href='#icon-database'></use></svg></label><div class='xr-var-attrs'><dl class='xr-attrs'><dt><span>long_name :</span></dt><dd>Receive channel id</dd><dt><span>units :</span></dt><dd>1</dd><dt><span>source :</span></dt><dd>Derived as part of Photon ID</dd><dt><span>valid_min :</span></dt><dd>1</dd><dt><span>valid_max :</span></dt><dd>120</dd><dt><span>contentType :</span></dt><dd>referenceInformation</dd><dt><span>description :</span></dt><dd>Channel number assigned for each received photon event. This is part of the photon ID. Values range from 1 to 120 to span all channels and rise/fall edges. Values 1 to 60 are for falling edge; PCE1 (1 to 20), PCE 2 (21 to 40) and PCE3 (41 to 60). Values 61 to 120 are for rising edge; PCE1 (61 to 80), PCE 2 (81 to 100) and PC3 (101 to 120).</dd></dl></div><div class='xr-var-data'><pre>[1848992 values with dtype=uint8]</pre></div></li><li class='xr-var-item'><div class='xr-var-name'><span>ph_id_count</span></div><div class='xr-var-dims'>(delta_time)</div><div class='xr-var-dtype'>uint8</div><div class='xr-var-preview xr-preview'>...</div><input id='attrs-b68e9e9c-ed42-4966-a590-16a243a07b08' class='xr-var-attrs-in' type='checkbox' ><label for='attrs-b68e9e9c-ed42-4966-a590-16a243a07b08' title='Show/Hide attributes'><svg class='icon xr-icon-file-text2'><use xlink:href='#icon-file-text2'></use></svg></label><input id='data-19410fe4-6295-4f24-b185-af72f4afa97f' class='xr-var-data-in' type='checkbox'><label for='data-19410fe4-6295-4f24-b185-af72f4afa97f' title='Show/Hide data repr'><svg class='icon xr-icon-database'><use xlink:href='#icon-database'></use></svg></label><div class='xr-var-attrs'><dl class='xr-attrs'><dt><span>long_name :</span></dt><dd>photon event counter</dd><dt><span>units :</span></dt><dd>counts</dd><dt><span>description :</span></dt><dd>The photon event counter is part of photon ID and counts from 1 for each channel until reset by laser pulse counter.</dd><dt><span>source :</span></dt><dd>Derived as part of Photon ID</dd><dt><span>contentType :</span></dt><dd>referenceInformation</dd></dl></div><div class='xr-var-data'><pre>[1848992 values with dtype=uint8]</pre></div></li><li class='xr-var-item'><div class='xr-var-name'><span>ph_id_pulse</span></div><div class='xr-var-dims'>(delta_time)</div><div class='xr-var-dtype'>uint8</div><div class='xr-var-preview xr-preview'>...</div><input id='attrs-cacee6d4-fabb-4d79-99aa-ce5cecb36fbe' class='xr-var-attrs-in' type='checkbox' ><label for='attrs-cacee6d4-fabb-4d79-99aa-ce5cecb36fbe' title='Show/Hide attributes'><svg class='icon xr-icon-file-text2'><use xlink:href='#icon-file-text2'></use></svg></label><input id='data-7b3595bb-a046-4c2f-a398-9d691b87e5cb' class='xr-var-data-in' type='checkbox'><label for='data-7b3595bb-a046-4c2f-a398-9d691b87e5cb' title='Show/Hide data repr'><svg class='icon xr-icon-database'><use xlink:href='#icon-database'></use></svg></label><div class='xr-var-attrs'><dl class='xr-attrs'><dt><span>long_name :</span></dt><dd>laser pulse counter</dd><dt><span>units :</span></dt><dd>counts</dd><dt><span>source :</span></dt><dd>Derived as part of Photon ID</dd><dt><span>contentType :</span></dt><dd>referenceInformation</dd><dt><span>description :</span></dt><dd>The laser pulse counter is part of photon ID and counts from 1 to 200 and is reset for each new major frame.</dd></dl></div><div class='xr-var-data'><pre>[1848992 values with dtype=uint8]</pre></div></li><li class='xr-var-item'><div class='xr-var-name'><span>quality_ph</span></div><div class='xr-var-dims'>(delta_time)</div><div class='xr-var-dtype'>int8</div><div class='xr-var-preview xr-preview'>...</div><input id='attrs-17263a8a-c592-4a36-9f95-298cf68f5183' class='xr-var-attrs-in' type='checkbox' ><label for='attrs-17263a8a-c592-4a36-9f95-298cf68f5183' title='Show/Hide attributes'><svg class='icon xr-icon-file-text2'><use xlink:href='#icon-file-text2'></use></svg></label><input id='data-f79bdd55-1472-4daf-9c27-678b5a4ec0ef' class='xr-var-data-in' type='checkbox'><label for='data-f79bdd55-1472-4daf-9c27-678b5a4ec0ef' title='Show/Hide data repr'><svg class='icon xr-icon-database'><use xlink:href='#icon-database'></use></svg></label><div class='xr-var-attrs'><dl class='xr-attrs'><dt><span>long_name :</span></dt><dd>Photon Quality</dd><dt><span>valid_max :</span></dt><dd>3</dd><dt><span>flag_meanings :</span></dt><dd>nominal possible_afterpulse possible_impulse_response_effect possible_tep</dd><dt><span>flag_values :</span></dt><dd>[0 1 2 3]</dd><dt><span>source :</span></dt><dd>ATL03 ATBD</dd><dt><span>units :</span></dt><dd>1</dd><dt><span>contentType :</span></dt><dd>qualityInformation</dd><dt><span>valid_min :</span></dt><dd>0</dd><dt><span>description :</span></dt><dd>Indicates the quality of the associated photon. 0=nominal, 1=possible_afterpulse, 2=possible_impulse_response_effect, 3=possible_tep. Use this flag in conjunction with signal_conf_ph to identify those photons that are likely noise or likely signal.</dd></dl></div><div class='xr-var-data'><pre>[1848992 values with dtype=int8]</pre></div></li><li class='xr-var-item'><div class='xr-var-name'><span>signal_conf_ph</span></div><div class='xr-var-dims'>(delta_time, ds_surf_type)</div><div class='xr-var-dtype'>int8</div><div class='xr-var-preview xr-preview'>...</div><input id='attrs-3c01bf4d-d62f-42d8-9ed1-4230040a314d' class='xr-var-attrs-in' type='checkbox' ><label for='attrs-3c01bf4d-d62f-42d8-9ed1-4230040a314d' title='Show/Hide attributes'><svg class='icon xr-icon-file-text2'><use xlink:href='#icon-file-text2'></use></svg></label><input id='data-95e20dde-66f6-4d36-b587-f0599f19506b' class='xr-var-data-in' type='checkbox'><label for='data-95e20dde-66f6-4d36-b587-f0599f19506b' title='Show/Hide data repr'><svg class='icon xr-icon-database'><use xlink:href='#icon-database'></use></svg></label><div class='xr-var-attrs'><dl class='xr-attrs'><dt><span>long_name :</span></dt><dd>Photon Signal Confidence</dd><dt><span>valid_max :</span></dt><dd>4</dd><dt><span>flag_meanings :</span></dt><dd>possible_tep not_considered noise buffer low medium high</dd><dt><span>flag_values :</span></dt><dd>[-2 -1  0  1  2  3  4]</dd><dt><span>source :</span></dt><dd>ATL03 ATBD, Section 5, Conf</dd><dt><span>units :</span></dt><dd>1</dd><dt><span>contentType :</span></dt><dd>qualityInformation</dd><dt><span>valid_min :</span></dt><dd>-2</dd><dt><span>description :</span></dt><dd>Confidence level associated with each photon event selected as signal. 0=noise. 1=added to allow for buffer but algorithm classifies as background; 2=low; 3=med; 4=high).  This parameter is a 5xN array where N is the number of photons in the granule, and the 5 rows indicate signal finding for each surface type (in order: land, ocean, sea ice, land ice and inland water). Events not associated with a specific surface type have a confidence level of -1. Events evaluated as TEP returns have a confidence level of -2.</dd></dl></div><div class='xr-var-data'><pre>[9244960 values with dtype=int8]</pre></div></li><li class='xr-var-item'><div class='xr-var-name'><span>weight_ph</span></div><div class='xr-var-dims'>(delta_time)</div><div class='xr-var-dtype'>uint8</div><div class='xr-var-preview xr-preview'>...</div><input id='attrs-46d7feca-410d-4d3c-914c-44b8ca89581f' class='xr-var-attrs-in' type='checkbox' ><label for='attrs-46d7feca-410d-4d3c-914c-44b8ca89581f' title='Show/Hide attributes'><svg class='icon xr-icon-file-text2'><use xlink:href='#icon-file-text2'></use></svg></label><input id='data-d55dcefd-b92f-4b29-98a2-89e4cb4b0d59' class='xr-var-data-in' type='checkbox'><label for='data-d55dcefd-b92f-4b29-98a2-89e4cb4b0d59' title='Show/Hide data repr'><svg class='icon xr-icon-database'><use xlink:href='#icon-database'></use></svg></label><div class='xr-var-attrs'><dl class='xr-attrs'><dt><span>long_name :</span></dt><dd>Photon weight</dd><dt><span>units :</span></dt><dd>1</dd><dt><span>source :</span></dt><dd>ATBD Section 5</dd><dt><span>valid_min :</span></dt><dd>0</dd><dt><span>valid_max :</span></dt><dd>255</dd><dt><span>contentType :</span></dt><dd>modelResult</dd><dt><span>description :</span></dt><dd>Computed weight of each photon. The weight is calculated by a windowed KNN algorithm using the distances between each photon and its K nearest neighbors. Values range from 0 to 255 where 255 is the most heavily weighted photon and would be considered likely signal.</dd></dl></div><div class='xr-var-data'><pre>[1848992 values with dtype=uint8]</pre></div></li></ul></div></li><li class='xr-section-item'><input id='section-478f778e-71c0-4fd3-a955-f9f232bee231' class='xr-section-summary-in' type='checkbox'  ><label for='section-478f778e-71c0-4fd3-a955-f9f232bee231' class='xr-section-summary' >Indexes: <span>(1)</span></label><div class='xr-section-inline-details'></div><div class='xr-section-details'><ul class='xr-var-list'><li class='xr-var-item'><div class='xr-index-name'><div>delta_time</div></div><div class='xr-index-preview'>PandasIndex</div><div></div><input id='index-23cc7f57-10ef-4491-8668-349f7ea8d57c' class='xr-index-data-in' type='checkbox'/><label for='index-23cc7f57-10ef-4491-8668-349f7ea8d57c' title='Show/Hide index repr'><svg class='icon xr-icon-database'><use xlink:href='#icon-database'></use></svg></label><div class='xr-index-data'><pre>PandasIndex(DatetimeIndex([&#x27;2020-04-27 19:39:45.849764816&#x27;,\n",
       "               &#x27;2020-04-27 19:39:45.849764816&#x27;,\n",
       "               &#x27;2020-04-27 19:39:45.849764816&#x27;,\n",
       "               &#x27;2020-04-27 19:39:45.849864816&#x27;,\n",
       "               &#x27;2020-04-27 19:39:45.849864816&#x27;,\n",
       "               &#x27;2020-04-27 19:39:45.849864816&#x27;,\n",
       "               &#x27;2020-04-27 19:39:45.849864816&#x27;,\n",
       "               &#x27;2020-04-27 19:39:45.849964816&#x27;,\n",
       "               &#x27;2020-04-27 19:39:45.849964816&#x27;,\n",
       "               &#x27;2020-04-27 19:39:45.849964816&#x27;,\n",
       "               ...\n",
       "               &#x27;2020-04-27 19:40:01.537465200&#x27;,\n",
       "               &#x27;2020-04-27 19:40:01.537565200&#x27;,\n",
       "               &#x27;2020-04-27 19:40:01.537565200&#x27;,\n",
       "               &#x27;2020-04-27 19:40:01.537565200&#x27;,\n",
       "               &#x27;2020-04-27 19:40:01.537565200&#x27;,\n",
       "               &#x27;2020-04-27 19:40:01.537565200&#x27;,\n",
       "               &#x27;2020-04-27 19:40:01.537565200&#x27;,\n",
       "               &#x27;2020-04-27 19:40:01.537665200&#x27;,\n",
       "               &#x27;2020-04-27 19:40:01.537665200&#x27;,\n",
       "               &#x27;2020-04-27 19:40:01.537665200&#x27;],\n",
       "              dtype=&#x27;datetime64[ns]&#x27;, name=&#x27;delta_time&#x27;, length=1848992, freq=None))</pre></div></li></ul></div></li><li class='xr-section-item'><input id='section-22e1699e-19d6-4c92-9562-e0b389aacdd3' class='xr-section-summary-in' type='checkbox'  checked><label for='section-22e1699e-19d6-4c92-9562-e0b389aacdd3' class='xr-section-summary' >Attributes: <span>(2)</span></label><div class='xr-section-inline-details'></div><div class='xr-section-details'><dl class='xr-attrs'><dt><span>Description :</span></dt><dd>Contains arrays of the parameters for each received photon.</dd><dt><span>data_rate :</span></dt><dd>Data are stored at the photon detection rate.</dd></dl></div></li></ul></div></div>"
      ],
      "text/plain": [
       "<xarray.Dataset> Size: 92MB\n",
       "Dimensions:         (delta_time: 1848992, ds_surf_type: 5)\n",
       "Coordinates:\n",
       "  * delta_time      (delta_time) datetime64[ns] 15MB 2020-04-27T19:39:45.8497...\n",
       "    lat_ph          (delta_time) float64 15MB ...\n",
       "    lon_ph          (delta_time) float64 15MB ...\n",
       "Dimensions without coordinates: ds_surf_type\n",
       "Data variables:\n",
       "    dist_ph_across  (delta_time) float32 7MB ...\n",
       "    dist_ph_along   (delta_time) float32 7MB ...\n",
       "    h_ph            (delta_time) float32 7MB ...\n",
       "    pce_mframe_cnt  (delta_time) uint32 7MB ...\n",
       "    ph_id_channel   (delta_time) uint8 2MB ...\n",
       "    ph_id_count     (delta_time) uint8 2MB ...\n",
       "    ph_id_pulse     (delta_time) uint8 2MB ...\n",
       "    quality_ph      (delta_time) int8 2MB ...\n",
       "    signal_conf_ph  (delta_time, ds_surf_type) int8 9MB ...\n",
       "    weight_ph       (delta_time) uint8 2MB ...\n",
       "Attributes:\n",
       "    Description:  Contains arrays of the parameters for each received photon.\n",
       "    data_rate:    Data are stored at the photon detection rate."
      ]
     },
     "execution_count": 13,
     "metadata": {},
     "output_type": "execute_result"
    }
   ],
   "source": [
    "ds = xr.open_dataset(filelist[0], group=\"gt1l/heights\")\n",
    "ds"
   ]
  },
  {
   "cell_type": "markdown",
   "id": "690ed2a6-3307-414c-9f2f-0aa2716e2bb6",
   "metadata": {},
   "source": [
    "#### Direct S3 Access of Harmony Results\n",
    "\n",
    "If you are working in the AWS `us-west-2` region (the same region as NASA Earthdata Cloud) you can _stream_ the data using direct S3 access.\n",
    "\n",
    ":::{warning}\n",
    "You must be running this notebook in the AWS us-west-2 region to run the following code cells.\n",
    ":::\n",
    "\n"
   ]
  },
  {
   "cell_type": "markdown",
   "id": "75096fba-1367-4bd4-a45d-c19c8449662d",
   "metadata": {},
   "source": [
    "We need to get the url for the data in the S3 bucket.  We can do this using `result_urls`, as we did for `download` but we set `link_type=LinkType.s3` to specify we want the S3 url."
   ]
  },
  {
   "cell_type": "code",
   "execution_count": 14,
   "id": "a8d8a29d-91df-4872-9d9c-6a116bc92774",
   "metadata": {},
   "outputs": [
    {
     "data": {
      "text/plain": [
       "['s3://harmony-prod-staging/public/2dd7cf22-a902-4eb8-8c0e-8d8cdd48b27c/79898885/ATL03_20200427193622_04930702_006_02_subsetted.h5']"
      ]
     },
     "execution_count": 14,
     "metadata": {},
     "output_type": "execute_result"
    }
   ],
   "source": [
    "urls = list(harmony_client.result_urls(job_id, link_type=LinkType.s3))  # result_urls returns a generator possible issue to return list\n",
    "urls"
   ]
  },
  {
   "cell_type": "markdown",
   "id": "815db398-723b-4278-ae30-2ad5f9764912",
   "metadata": {},
   "source": [
    "We need AWS credentials to access the S3 bucket with the results.  These are returned using the `aws_credentials` method.\n",
    "\n",
    "_what about if we use our own bucket?_"
   ]
  },
  {
   "cell_type": "code",
   "execution_count": 15,
   "id": "d58df790-d40c-410c-a295-22d6d39dfd5b",
   "metadata": {},
   "outputs": [],
   "source": [
    "creds = harmony_client.aws_credentials()"
   ]
  },
  {
   "cell_type": "markdown",
   "id": "7d20cc12-b670-4091-9ae9-82fdbc2ded07",
   "metadata": {},
   "source": [
    "We then create a virtual file system that allows us to access the S3 bucket.  We pass the credentials to authenticate."
   ]
  },
  {
   "cell_type": "code",
   "execution_count": 16,
   "id": "73bc9a2d-b009-4cf9-8a47-531a308833b0",
   "metadata": {},
   "outputs": [],
   "source": [
    "s3_fs = s3fs.S3FileSystem(\n",
    "    key=creds['aws_access_key_id'],\n",
    "    secret=creds['aws_secret_access_key'],\n",
    "    token=creds['aws_session_token'],\n",
    "    client_kwargs={'region_name':'us-west-2'},\n",
    ")"
   ]
  },
  {
   "cell_type": "markdown",
   "id": "71e965bc-3950-47a9-ad8f-2e98c83a09c5",
   "metadata": {},
   "source": [
    "We then open the S3 url as a _file-like_ object.\n",
    "\n",
    ":::{note}\n",
    "A _file-like_ object is just what it sounds like, an _object_ - a collection of bytes in memory - that is recognized as a file by applications.\n",
    ":::"
   ]
  },
  {
   "cell_type": "code",
   "execution_count": 17,
   "id": "f29584a0-357a-4f1a-8a3b-ab72fc20d6e4",
   "metadata": {},
   "outputs": [],
   "source": [
    "f = [s3_fs.open(url, mode='rb') for url in urls]"
   ]
  },
  {
   "cell_type": "markdown",
   "id": "cb377464-7b37-495c-bb0e-7c00af35ae51",
   "metadata": {},
   "source": [
    "We can then open one of the files using `xarray`. "
   ]
  },
  {
   "cell_type": "code",
   "execution_count": 18,
   "id": "8860630c-2050-4256-88c2-f1879456a9a1",
   "metadata": {},
   "outputs": [
    {
     "data": {
      "text/html": [
       "<div><svg style=\"position: absolute; width: 0; height: 0; overflow: hidden\">\n",
       "<defs>\n",
       "<symbol id=\"icon-database\" viewBox=\"0 0 32 32\">\n",
       "<path d=\"M16 0c-8.837 0-16 2.239-16 5v4c0 2.761 7.163 5 16 5s16-2.239 16-5v-4c0-2.761-7.163-5-16-5z\"></path>\n",
       "<path d=\"M16 17c-8.837 0-16-2.239-16-5v6c0 2.761 7.163 5 16 5s16-2.239 16-5v-6c0 2.761-7.163 5-16 5z\"></path>\n",
       "<path d=\"M16 26c-8.837 0-16-2.239-16-5v6c0 2.761 7.163 5 16 5s16-2.239 16-5v-6c0 2.761-7.163 5-16 5z\"></path>\n",
       "</symbol>\n",
       "<symbol id=\"icon-file-text2\" viewBox=\"0 0 32 32\">\n",
       "<path d=\"M28.681 7.159c-0.694-0.947-1.662-2.053-2.724-3.116s-2.169-2.030-3.116-2.724c-1.612-1.182-2.393-1.319-2.841-1.319h-15.5c-1.378 0-2.5 1.121-2.5 2.5v27c0 1.378 1.122 2.5 2.5 2.5h23c1.378 0 2.5-1.122 2.5-2.5v-19.5c0-0.448-0.137-1.23-1.319-2.841zM24.543 5.457c0.959 0.959 1.712 1.825 2.268 2.543h-4.811v-4.811c0.718 0.556 1.584 1.309 2.543 2.268zM28 29.5c0 0.271-0.229 0.5-0.5 0.5h-23c-0.271 0-0.5-0.229-0.5-0.5v-27c0-0.271 0.229-0.5 0.5-0.5 0 0 15.499-0 15.5 0v7c0 0.552 0.448 1 1 1h7v19.5z\"></path>\n",
       "<path d=\"M23 26h-14c-0.552 0-1-0.448-1-1s0.448-1 1-1h14c0.552 0 1 0.448 1 1s-0.448 1-1 1z\"></path>\n",
       "<path d=\"M23 22h-14c-0.552 0-1-0.448-1-1s0.448-1 1-1h14c0.552 0 1 0.448 1 1s-0.448 1-1 1z\"></path>\n",
       "<path d=\"M23 18h-14c-0.552 0-1-0.448-1-1s0.448-1 1-1h14c0.552 0 1 0.448 1 1s-0.448 1-1 1z\"></path>\n",
       "</symbol>\n",
       "</defs>\n",
       "</svg>\n",
       "<style>/* CSS stylesheet for displaying xarray objects in jupyterlab.\n",
       " *\n",
       " */\n",
       "\n",
       ":root {\n",
       "  --xr-font-color0: var(--jp-content-font-color0, rgba(0, 0, 0, 1));\n",
       "  --xr-font-color2: var(--jp-content-font-color2, rgba(0, 0, 0, 0.54));\n",
       "  --xr-font-color3: var(--jp-content-font-color3, rgba(0, 0, 0, 0.38));\n",
       "  --xr-border-color: var(--jp-border-color2, #e0e0e0);\n",
       "  --xr-disabled-color: var(--jp-layout-color3, #bdbdbd);\n",
       "  --xr-background-color: var(--jp-layout-color0, white);\n",
       "  --xr-background-color-row-even: var(--jp-layout-color1, white);\n",
       "  --xr-background-color-row-odd: var(--jp-layout-color2, #eeeeee);\n",
       "}\n",
       "\n",
       "html[theme=dark],\n",
       "body[data-theme=dark],\n",
       "body.vscode-dark {\n",
       "  --xr-font-color0: rgba(255, 255, 255, 1);\n",
       "  --xr-font-color2: rgba(255, 255, 255, 0.54);\n",
       "  --xr-font-color3: rgba(255, 255, 255, 0.38);\n",
       "  --xr-border-color: #1F1F1F;\n",
       "  --xr-disabled-color: #515151;\n",
       "  --xr-background-color: #111111;\n",
       "  --xr-background-color-row-even: #111111;\n",
       "  --xr-background-color-row-odd: #313131;\n",
       "}\n",
       "\n",
       ".xr-wrap {\n",
       "  display: block !important;\n",
       "  min-width: 300px;\n",
       "  max-width: 700px;\n",
       "}\n",
       "\n",
       ".xr-text-repr-fallback {\n",
       "  /* fallback to plain text repr when CSS is not injected (untrusted notebook) */\n",
       "  display: none;\n",
       "}\n",
       "\n",
       ".xr-header {\n",
       "  padding-top: 6px;\n",
       "  padding-bottom: 6px;\n",
       "  margin-bottom: 4px;\n",
       "  border-bottom: solid 1px var(--xr-border-color);\n",
       "}\n",
       "\n",
       ".xr-header > div,\n",
       ".xr-header > ul {\n",
       "  display: inline;\n",
       "  margin-top: 0;\n",
       "  margin-bottom: 0;\n",
       "}\n",
       "\n",
       ".xr-obj-type,\n",
       ".xr-array-name {\n",
       "  margin-left: 2px;\n",
       "  margin-right: 10px;\n",
       "}\n",
       "\n",
       ".xr-obj-type {\n",
       "  color: var(--xr-font-color2);\n",
       "}\n",
       "\n",
       ".xr-sections {\n",
       "  padding-left: 0 !important;\n",
       "  display: grid;\n",
       "  grid-template-columns: 150px auto auto 1fr 20px 20px;\n",
       "}\n",
       "\n",
       ".xr-section-item {\n",
       "  display: contents;\n",
       "}\n",
       "\n",
       ".xr-section-item input {\n",
       "  display: none;\n",
       "}\n",
       "\n",
       ".xr-section-item input + label {\n",
       "  color: var(--xr-disabled-color);\n",
       "}\n",
       "\n",
       ".xr-section-item input:enabled + label {\n",
       "  cursor: pointer;\n",
       "  color: var(--xr-font-color2);\n",
       "}\n",
       "\n",
       ".xr-section-item input:enabled + label:hover {\n",
       "  color: var(--xr-font-color0);\n",
       "}\n",
       "\n",
       ".xr-section-summary {\n",
       "  grid-column: 1;\n",
       "  color: var(--xr-font-color2);\n",
       "  font-weight: 500;\n",
       "}\n",
       "\n",
       ".xr-section-summary > span {\n",
       "  display: inline-block;\n",
       "  padding-left: 0.5em;\n",
       "}\n",
       "\n",
       ".xr-section-summary-in:disabled + label {\n",
       "  color: var(--xr-font-color2);\n",
       "}\n",
       "\n",
       ".xr-section-summary-in + label:before {\n",
       "  display: inline-block;\n",
       "  content: '►';\n",
       "  font-size: 11px;\n",
       "  width: 15px;\n",
       "  text-align: center;\n",
       "}\n",
       "\n",
       ".xr-section-summary-in:disabled + label:before {\n",
       "  color: var(--xr-disabled-color);\n",
       "}\n",
       "\n",
       ".xr-section-summary-in:checked + label:before {\n",
       "  content: '▼';\n",
       "}\n",
       "\n",
       ".xr-section-summary-in:checked + label > span {\n",
       "  display: none;\n",
       "}\n",
       "\n",
       ".xr-section-summary,\n",
       ".xr-section-inline-details {\n",
       "  padding-top: 4px;\n",
       "  padding-bottom: 4px;\n",
       "}\n",
       "\n",
       ".xr-section-inline-details {\n",
       "  grid-column: 2 / -1;\n",
       "}\n",
       "\n",
       ".xr-section-details {\n",
       "  display: none;\n",
       "  grid-column: 1 / -1;\n",
       "  margin-bottom: 5px;\n",
       "}\n",
       "\n",
       ".xr-section-summary-in:checked ~ .xr-section-details {\n",
       "  display: contents;\n",
       "}\n",
       "\n",
       ".xr-array-wrap {\n",
       "  grid-column: 1 / -1;\n",
       "  display: grid;\n",
       "  grid-template-columns: 20px auto;\n",
       "}\n",
       "\n",
       ".xr-array-wrap > label {\n",
       "  grid-column: 1;\n",
       "  vertical-align: top;\n",
       "}\n",
       "\n",
       ".xr-preview {\n",
       "  color: var(--xr-font-color3);\n",
       "}\n",
       "\n",
       ".xr-array-preview,\n",
       ".xr-array-data {\n",
       "  padding: 0 5px !important;\n",
       "  grid-column: 2;\n",
       "}\n",
       "\n",
       ".xr-array-data,\n",
       ".xr-array-in:checked ~ .xr-array-preview {\n",
       "  display: none;\n",
       "}\n",
       "\n",
       ".xr-array-in:checked ~ .xr-array-data,\n",
       ".xr-array-preview {\n",
       "  display: inline-block;\n",
       "}\n",
       "\n",
       ".xr-dim-list {\n",
       "  display: inline-block !important;\n",
       "  list-style: none;\n",
       "  padding: 0 !important;\n",
       "  margin: 0;\n",
       "}\n",
       "\n",
       ".xr-dim-list li {\n",
       "  display: inline-block;\n",
       "  padding: 0;\n",
       "  margin: 0;\n",
       "}\n",
       "\n",
       ".xr-dim-list:before {\n",
       "  content: '(';\n",
       "}\n",
       "\n",
       ".xr-dim-list:after {\n",
       "  content: ')';\n",
       "}\n",
       "\n",
       ".xr-dim-list li:not(:last-child):after {\n",
       "  content: ',';\n",
       "  padding-right: 5px;\n",
       "}\n",
       "\n",
       ".xr-has-index {\n",
       "  font-weight: bold;\n",
       "}\n",
       "\n",
       ".xr-var-list,\n",
       ".xr-var-item {\n",
       "  display: contents;\n",
       "}\n",
       "\n",
       ".xr-var-item > div,\n",
       ".xr-var-item label,\n",
       ".xr-var-item > .xr-var-name span {\n",
       "  background-color: var(--xr-background-color-row-even);\n",
       "  margin-bottom: 0;\n",
       "}\n",
       "\n",
       ".xr-var-item > .xr-var-name:hover span {\n",
       "  padding-right: 5px;\n",
       "}\n",
       "\n",
       ".xr-var-list > li:nth-child(odd) > div,\n",
       ".xr-var-list > li:nth-child(odd) > label,\n",
       ".xr-var-list > li:nth-child(odd) > .xr-var-name span {\n",
       "  background-color: var(--xr-background-color-row-odd);\n",
       "}\n",
       "\n",
       ".xr-var-name {\n",
       "  grid-column: 1;\n",
       "}\n",
       "\n",
       ".xr-var-dims {\n",
       "  grid-column: 2;\n",
       "}\n",
       "\n",
       ".xr-var-dtype {\n",
       "  grid-column: 3;\n",
       "  text-align: right;\n",
       "  color: var(--xr-font-color2);\n",
       "}\n",
       "\n",
       ".xr-var-preview {\n",
       "  grid-column: 4;\n",
       "}\n",
       "\n",
       ".xr-index-preview {\n",
       "  grid-column: 2 / 5;\n",
       "  color: var(--xr-font-color2);\n",
       "}\n",
       "\n",
       ".xr-var-name,\n",
       ".xr-var-dims,\n",
       ".xr-var-dtype,\n",
       ".xr-preview,\n",
       ".xr-attrs dt {\n",
       "  white-space: nowrap;\n",
       "  overflow: hidden;\n",
       "  text-overflow: ellipsis;\n",
       "  padding-right: 10px;\n",
       "}\n",
       "\n",
       ".xr-var-name:hover,\n",
       ".xr-var-dims:hover,\n",
       ".xr-var-dtype:hover,\n",
       ".xr-attrs dt:hover {\n",
       "  overflow: visible;\n",
       "  width: auto;\n",
       "  z-index: 1;\n",
       "}\n",
       "\n",
       ".xr-var-attrs,\n",
       ".xr-var-data,\n",
       ".xr-index-data {\n",
       "  display: none;\n",
       "  background-color: var(--xr-background-color) !important;\n",
       "  padding-bottom: 5px !important;\n",
       "}\n",
       "\n",
       ".xr-var-attrs-in:checked ~ .xr-var-attrs,\n",
       ".xr-var-data-in:checked ~ .xr-var-data,\n",
       ".xr-index-data-in:checked ~ .xr-index-data {\n",
       "  display: block;\n",
       "}\n",
       "\n",
       ".xr-var-data > table {\n",
       "  float: right;\n",
       "}\n",
       "\n",
       ".xr-var-name span,\n",
       ".xr-var-data,\n",
       ".xr-index-name div,\n",
       ".xr-index-data,\n",
       ".xr-attrs {\n",
       "  padding-left: 25px !important;\n",
       "}\n",
       "\n",
       ".xr-attrs,\n",
       ".xr-var-attrs,\n",
       ".xr-var-data,\n",
       ".xr-index-data {\n",
       "  grid-column: 1 / -1;\n",
       "}\n",
       "\n",
       "dl.xr-attrs {\n",
       "  padding: 0;\n",
       "  margin: 0;\n",
       "  display: grid;\n",
       "  grid-template-columns: 125px auto;\n",
       "}\n",
       "\n",
       ".xr-attrs dt,\n",
       ".xr-attrs dd {\n",
       "  padding: 0;\n",
       "  margin: 0;\n",
       "  float: left;\n",
       "  padding-right: 10px;\n",
       "  width: auto;\n",
       "}\n",
       "\n",
       ".xr-attrs dt {\n",
       "  font-weight: normal;\n",
       "  grid-column: 1;\n",
       "}\n",
       "\n",
       ".xr-attrs dt:hover span {\n",
       "  display: inline-block;\n",
       "  background: var(--xr-background-color);\n",
       "  padding-right: 10px;\n",
       "}\n",
       "\n",
       ".xr-attrs dd {\n",
       "  grid-column: 2;\n",
       "  white-space: pre-wrap;\n",
       "  word-break: break-all;\n",
       "}\n",
       "\n",
       ".xr-icon-database,\n",
       ".xr-icon-file-text2,\n",
       ".xr-no-icon {\n",
       "  display: inline-block;\n",
       "  vertical-align: middle;\n",
       "  width: 1em;\n",
       "  height: 1.5em !important;\n",
       "  stroke-width: 0;\n",
       "  stroke: currentColor;\n",
       "  fill: currentColor;\n",
       "}\n",
       "</style><pre class='xr-text-repr-fallback'>&lt;xarray.Dataset&gt; Size: 92MB\n",
       "Dimensions:         (delta_time: 1848992, ds_surf_type: 5)\n",
       "Coordinates:\n",
       "  * delta_time      (delta_time) datetime64[ns] 15MB 2020-04-27T19:39:45.8497...\n",
       "    lat_ph          (delta_time) float64 15MB ...\n",
       "    lon_ph          (delta_time) float64 15MB ...\n",
       "Dimensions without coordinates: ds_surf_type\n",
       "Data variables:\n",
       "    dist_ph_across  (delta_time) float32 7MB ...\n",
       "    dist_ph_along   (delta_time) float32 7MB ...\n",
       "    h_ph            (delta_time) float32 7MB ...\n",
       "    pce_mframe_cnt  (delta_time) uint32 7MB ...\n",
       "    ph_id_channel   (delta_time) uint8 2MB ...\n",
       "    ph_id_count     (delta_time) uint8 2MB ...\n",
       "    ph_id_pulse     (delta_time) uint8 2MB ...\n",
       "    quality_ph      (delta_time) int8 2MB ...\n",
       "    signal_conf_ph  (delta_time, ds_surf_type) int8 9MB ...\n",
       "    weight_ph       (delta_time) uint8 2MB ...\n",
       "Attributes:\n",
       "    Description:  Contains arrays of the parameters for each received photon.\n",
       "    data_rate:    Data are stored at the photon detection rate.</pre><div class='xr-wrap' style='display:none'><div class='xr-header'><div class='xr-obj-type'>xarray.Dataset</div></div><ul class='xr-sections'><li class='xr-section-item'><input id='section-d9156658-9382-4025-a8c5-05f0e472deec' class='xr-section-summary-in' type='checkbox' disabled ><label for='section-d9156658-9382-4025-a8c5-05f0e472deec' class='xr-section-summary'  title='Expand/collapse section'>Dimensions:</label><div class='xr-section-inline-details'><ul class='xr-dim-list'><li><span class='xr-has-index'>delta_time</span>: 1848992</li><li><span>ds_surf_type</span>: 5</li></ul></div><div class='xr-section-details'></div></li><li class='xr-section-item'><input id='section-5913d9c6-b5bc-4664-82aa-660120dc8bc8' class='xr-section-summary-in' type='checkbox'  checked><label for='section-5913d9c6-b5bc-4664-82aa-660120dc8bc8' class='xr-section-summary' >Coordinates: <span>(3)</span></label><div class='xr-section-inline-details'></div><div class='xr-section-details'><ul class='xr-var-list'><li class='xr-var-item'><div class='xr-var-name'><span class='xr-has-index'>delta_time</span></div><div class='xr-var-dims'>(delta_time)</div><div class='xr-var-dtype'>datetime64[ns]</div><div class='xr-var-preview xr-preview'>2020-04-27T19:39:45.849764816 .....</div><input id='attrs-7f36cfa9-1b46-436b-8334-f42d60e24a98' class='xr-var-attrs-in' type='checkbox' ><label for='attrs-7f36cfa9-1b46-436b-8334-f42d60e24a98' title='Show/Hide attributes'><svg class='icon xr-icon-file-text2'><use xlink:href='#icon-file-text2'></use></svg></label><input id='data-494208e1-0dc7-403d-826c-208cbd92ce7e' class='xr-var-data-in' type='checkbox'><label for='data-494208e1-0dc7-403d-826c-208cbd92ce7e' title='Show/Hide data repr'><svg class='icon xr-icon-database'><use xlink:href='#icon-database'></use></svg></label><div class='xr-var-attrs'><dl class='xr-attrs'><dt><span>contentType :</span></dt><dd>referenceInformation</dd><dt><span>description :</span></dt><dd>The transmit time of a given photon, measured in seconds from the ATLAS Standard Data Product Epoch. Note that multiple received photons associated with a single transmit pulse will have the same delta_time. The ATLAS Standard Data Products (SDP) epoch offset is defined within /ancillary_data/atlas_sdp_gps_epoch as the number of GPS seconds between the GPS epoch (1980-01-06T00:00:00.000000Z UTC) and the ATLAS SDP epoch. By adding the offset contained within atlas_sdp_gps_epoch to delta time parameters, the time in gps_seconds relative to the GPS epoch can be computed.</dd><dt><span>long_name :</span></dt><dd>Elapsed GPS seconds</dd><dt><span>source :</span></dt><dd>Operations</dd><dt><span>standard_name :</span></dt><dd>time</dd></dl></div><div class='xr-var-data'><pre>array([&#x27;2020-04-27T19:39:45.849764816&#x27;, &#x27;2020-04-27T19:39:45.849764816&#x27;,\n",
       "       &#x27;2020-04-27T19:39:45.849764816&#x27;, ..., &#x27;2020-04-27T19:40:01.537665200&#x27;,\n",
       "       &#x27;2020-04-27T19:40:01.537665200&#x27;, &#x27;2020-04-27T19:40:01.537665200&#x27;],\n",
       "      dtype=&#x27;datetime64[ns]&#x27;)</pre></div></li><li class='xr-var-item'><div class='xr-var-name'><span>lat_ph</span></div><div class='xr-var-dims'>(delta_time)</div><div class='xr-var-dtype'>float64</div><div class='xr-var-preview xr-preview'>...</div><input id='attrs-e2df14ef-2da7-4525-9e5d-7c1d1e4b7c92' class='xr-var-attrs-in' type='checkbox' ><label for='attrs-e2df14ef-2da7-4525-9e5d-7c1d1e4b7c92' title='Show/Hide attributes'><svg class='icon xr-icon-file-text2'><use xlink:href='#icon-file-text2'></use></svg></label><input id='data-27bf91d6-69d6-49d5-9422-c4d065173fb3' class='xr-var-data-in' type='checkbox'><label for='data-27bf91d6-69d6-49d5-9422-c4d065173fb3' title='Show/Hide data repr'><svg class='icon xr-icon-database'><use xlink:href='#icon-database'></use></svg></label><div class='xr-var-attrs'><dl class='xr-attrs'><dt><span>contentType :</span></dt><dd>modelResult</dd><dt><span>description :</span></dt><dd>Latitude of each received photon. Computed from the ECF Cartesian coordinates of the bounce point.</dd><dt><span>long_name :</span></dt><dd>Latitude</dd><dt><span>source :</span></dt><dd>ATL03g ATBD, Section 3.4</dd><dt><span>standard_name :</span></dt><dd>latitude</dd><dt><span>units :</span></dt><dd>degrees_north</dd><dt><span>valid_max :</span></dt><dd>90.0</dd><dt><span>valid_min :</span></dt><dd>-90.0</dd></dl></div><div class='xr-var-data'><pre>[1848992 values with dtype=float64]</pre></div></li><li class='xr-var-item'><div class='xr-var-name'><span>lon_ph</span></div><div class='xr-var-dims'>(delta_time)</div><div class='xr-var-dtype'>float64</div><div class='xr-var-preview xr-preview'>...</div><input id='attrs-58176b39-8a41-4f66-ac84-63cd8412283b' class='xr-var-attrs-in' type='checkbox' ><label for='attrs-58176b39-8a41-4f66-ac84-63cd8412283b' title='Show/Hide attributes'><svg class='icon xr-icon-file-text2'><use xlink:href='#icon-file-text2'></use></svg></label><input id='data-827e50c4-ef93-4f10-a955-99147bfbe001' class='xr-var-data-in' type='checkbox'><label for='data-827e50c4-ef93-4f10-a955-99147bfbe001' title='Show/Hide data repr'><svg class='icon xr-icon-database'><use xlink:href='#icon-database'></use></svg></label><div class='xr-var-attrs'><dl class='xr-attrs'><dt><span>contentType :</span></dt><dd>modelResult</dd><dt><span>description :</span></dt><dd>Longitude of each received photon. Computed from the ECF Cartesian coordinates of the bounce point.</dd><dt><span>long_name :</span></dt><dd>Longitude</dd><dt><span>source :</span></dt><dd>ATL03g ATBD, Section 3.4</dd><dt><span>standard_name :</span></dt><dd>longitude</dd><dt><span>units :</span></dt><dd>degrees_east</dd><dt><span>valid_max :</span></dt><dd>180.0</dd><dt><span>valid_min :</span></dt><dd>-180.0</dd></dl></div><div class='xr-var-data'><pre>[1848992 values with dtype=float64]</pre></div></li></ul></div></li><li class='xr-section-item'><input id='section-bfbcafc1-93a3-4d57-9ce3-efb63d158bab' class='xr-section-summary-in' type='checkbox'  checked><label for='section-bfbcafc1-93a3-4d57-9ce3-efb63d158bab' class='xr-section-summary' >Data variables: <span>(10)</span></label><div class='xr-section-inline-details'></div><div class='xr-section-details'><ul class='xr-var-list'><li class='xr-var-item'><div class='xr-var-name'><span>dist_ph_across</span></div><div class='xr-var-dims'>(delta_time)</div><div class='xr-var-dtype'>float32</div><div class='xr-var-preview xr-preview'>...</div><input id='attrs-13d11be4-b072-47aa-b144-98b3602dbf48' class='xr-var-attrs-in' type='checkbox' ><label for='attrs-13d11be4-b072-47aa-b144-98b3602dbf48' title='Show/Hide attributes'><svg class='icon xr-icon-file-text2'><use xlink:href='#icon-file-text2'></use></svg></label><input id='data-997536e9-39d5-4143-ad42-15f985486aea' class='xr-var-data-in' type='checkbox'><label for='data-997536e9-39d5-4143-ad42-15f985486aea' title='Show/Hide data repr'><svg class='icon xr-icon-database'><use xlink:href='#icon-database'></use></svg></label><div class='xr-var-attrs'><dl class='xr-attrs'><dt><span>contentType :</span></dt><dd>modelResult</dd><dt><span>description :</span></dt><dd>Across-track distance projected to the ellipsoid of the received photon from the reference ground track.  This is based on the Along-Track Segment algorithm described in Section 3.1.</dd><dt><span>long_name :</span></dt><dd>Distance off RGT.</dd><dt><span>source :</span></dt><dd>ATL03 ATBD, Section 3.1</dd><dt><span>units :</span></dt><dd>meters</dd></dl></div><div class='xr-var-data'><pre>[1848992 values with dtype=float32]</pre></div></li><li class='xr-var-item'><div class='xr-var-name'><span>dist_ph_along</span></div><div class='xr-var-dims'>(delta_time)</div><div class='xr-var-dtype'>float32</div><div class='xr-var-preview xr-preview'>...</div><input id='attrs-a0939b05-79fb-43f6-89e1-6944b3919304' class='xr-var-attrs-in' type='checkbox' ><label for='attrs-a0939b05-79fb-43f6-89e1-6944b3919304' title='Show/Hide attributes'><svg class='icon xr-icon-file-text2'><use xlink:href='#icon-file-text2'></use></svg></label><input id='data-a9c01a3c-38dd-4c71-837d-38c08b224a1e' class='xr-var-data-in' type='checkbox'><label for='data-a9c01a3c-38dd-4c71-837d-38c08b224a1e' title='Show/Hide data repr'><svg class='icon xr-icon-database'><use xlink:href='#icon-database'></use></svg></label><div class='xr-var-attrs'><dl class='xr-attrs'><dt><span>contentType :</span></dt><dd>modelResult</dd><dt><span>description :</span></dt><dd>Along-track distance in a segment projected to the ellipsoid of the received photon, based on the Along-Track Segment algorithm.  Total along track distance can be found by adding this value to the sum of segment lengths measured from the start of the most recent reference groundtrack.</dd><dt><span>long_name :</span></dt><dd>Distance from equator crossing.</dd><dt><span>source :</span></dt><dd>ATL03 ATBD, Section 3.1</dd><dt><span>units :</span></dt><dd>meters</dd></dl></div><div class='xr-var-data'><pre>[1848992 values with dtype=float32]</pre></div></li><li class='xr-var-item'><div class='xr-var-name'><span>h_ph</span></div><div class='xr-var-dims'>(delta_time)</div><div class='xr-var-dtype'>float32</div><div class='xr-var-preview xr-preview'>...</div><input id='attrs-6f308fd6-1d47-4616-940e-15b94b175a6e' class='xr-var-attrs-in' type='checkbox' ><label for='attrs-6f308fd6-1d47-4616-940e-15b94b175a6e' title='Show/Hide attributes'><svg class='icon xr-icon-file-text2'><use xlink:href='#icon-file-text2'></use></svg></label><input id='data-ac83a01f-8efd-4cbb-9578-fac0ae1a665c' class='xr-var-data-in' type='checkbox'><label for='data-ac83a01f-8efd-4cbb-9578-fac0ae1a665c' title='Show/Hide data repr'><svg class='icon xr-icon-database'><use xlink:href='#icon-database'></use></svg></label><div class='xr-var-attrs'><dl class='xr-attrs'><dt><span>contentType :</span></dt><dd>physicalMeasurement</dd><dt><span>description :</span></dt><dd>Height of each received photon, relative to the WGS-84 ellipsoid including the geophysical corrections noted in Section 6. Please note that neither the geoid, ocean tide nor the dynamic atmosphere (DAC) corrections are applied to the ellipsoidal heights.</dd><dt><span>long_name :</span></dt><dd>Photon WGS84 Height</dd><dt><span>source :</span></dt><dd>ATL03g ATBD, Section 3.4</dd><dt><span>standard_name :</span></dt><dd>height</dd><dt><span>units :</span></dt><dd>meters</dd></dl></div><div class='xr-var-data'><pre>[1848992 values with dtype=float32]</pre></div></li><li class='xr-var-item'><div class='xr-var-name'><span>pce_mframe_cnt</span></div><div class='xr-var-dims'>(delta_time)</div><div class='xr-var-dtype'>uint32</div><div class='xr-var-preview xr-preview'>...</div><input id='attrs-cc2a5d65-8897-48b7-911a-3a576268a227' class='xr-var-attrs-in' type='checkbox' ><label for='attrs-cc2a5d65-8897-48b7-911a-3a576268a227' title='Show/Hide attributes'><svg class='icon xr-icon-file-text2'><use xlink:href='#icon-file-text2'></use></svg></label><input id='data-871a11c2-cd73-4d05-9328-cbade4596a6b' class='xr-var-data-in' type='checkbox'><label for='data-871a11c2-cd73-4d05-9328-cbade4596a6b' title='Show/Hide data repr'><svg class='icon xr-icon-database'><use xlink:href='#icon-database'></use></svg></label><div class='xr-var-attrs'><dl class='xr-attrs'><dt><span>contentType :</span></dt><dd>referenceInformation</dd><dt><span>description :</span></dt><dd>The major frame counter is read from the digital flow controller in a given PCE card.  The counter identifies individual major frames across diag and science packets. Used as part of the photon ID.</dd><dt><span>long_name :</span></dt><dd>PCE Major frame counter</dd><dt><span>source :</span></dt><dd>Retained from prior a_alt_science_ph packet</dd><dt><span>units :</span></dt><dd>counts</dd></dl></div><div class='xr-var-data'><pre>[1848992 values with dtype=uint32]</pre></div></li><li class='xr-var-item'><div class='xr-var-name'><span>ph_id_channel</span></div><div class='xr-var-dims'>(delta_time)</div><div class='xr-var-dtype'>uint8</div><div class='xr-var-preview xr-preview'>...</div><input id='attrs-d73d40d1-24bd-4bc2-8c4b-049d9a6838b6' class='xr-var-attrs-in' type='checkbox' ><label for='attrs-d73d40d1-24bd-4bc2-8c4b-049d9a6838b6' title='Show/Hide attributes'><svg class='icon xr-icon-file-text2'><use xlink:href='#icon-file-text2'></use></svg></label><input id='data-a57fff62-b29a-44a0-b5d2-2a29826f0fcb' class='xr-var-data-in' type='checkbox'><label for='data-a57fff62-b29a-44a0-b5d2-2a29826f0fcb' title='Show/Hide data repr'><svg class='icon xr-icon-database'><use xlink:href='#icon-database'></use></svg></label><div class='xr-var-attrs'><dl class='xr-attrs'><dt><span>contentType :</span></dt><dd>referenceInformation</dd><dt><span>description :</span></dt><dd>Channel number assigned for each received photon event. This is part of the photon ID. Values range from 1 to 120 to span all channels and rise/fall edges. Values 1 to 60 are for falling edge; PCE1 (1 to 20), PCE 2 (21 to 40) and PCE3 (41 to 60). Values 61 to 120 are for rising edge; PCE1 (61 to 80), PCE 2 (81 to 100) and PC3 (101 to 120).</dd><dt><span>long_name :</span></dt><dd>Receive channel id</dd><dt><span>source :</span></dt><dd>Derived as part of Photon ID</dd><dt><span>units :</span></dt><dd>1</dd><dt><span>valid_max :</span></dt><dd>120</dd><dt><span>valid_min :</span></dt><dd>1</dd></dl></div><div class='xr-var-data'><pre>[1848992 values with dtype=uint8]</pre></div></li><li class='xr-var-item'><div class='xr-var-name'><span>ph_id_count</span></div><div class='xr-var-dims'>(delta_time)</div><div class='xr-var-dtype'>uint8</div><div class='xr-var-preview xr-preview'>...</div><input id='attrs-58e36675-a011-4b6f-87d3-129ab115872d' class='xr-var-attrs-in' type='checkbox' ><label for='attrs-58e36675-a011-4b6f-87d3-129ab115872d' title='Show/Hide attributes'><svg class='icon xr-icon-file-text2'><use xlink:href='#icon-file-text2'></use></svg></label><input id='data-9d92d641-2827-442c-8d84-37a0f531624e' class='xr-var-data-in' type='checkbox'><label for='data-9d92d641-2827-442c-8d84-37a0f531624e' title='Show/Hide data repr'><svg class='icon xr-icon-database'><use xlink:href='#icon-database'></use></svg></label><div class='xr-var-attrs'><dl class='xr-attrs'><dt><span>contentType :</span></dt><dd>referenceInformation</dd><dt><span>description :</span></dt><dd>The photon event counter is part of photon ID and counts from 1 for each channel until reset by laser pulse counter.</dd><dt><span>long_name :</span></dt><dd>photon event counter</dd><dt><span>source :</span></dt><dd>Derived as part of Photon ID</dd><dt><span>units :</span></dt><dd>counts</dd></dl></div><div class='xr-var-data'><pre>[1848992 values with dtype=uint8]</pre></div></li><li class='xr-var-item'><div class='xr-var-name'><span>ph_id_pulse</span></div><div class='xr-var-dims'>(delta_time)</div><div class='xr-var-dtype'>uint8</div><div class='xr-var-preview xr-preview'>...</div><input id='attrs-3028b325-b18b-46b2-9779-6180aef13aa9' class='xr-var-attrs-in' type='checkbox' ><label for='attrs-3028b325-b18b-46b2-9779-6180aef13aa9' title='Show/Hide attributes'><svg class='icon xr-icon-file-text2'><use xlink:href='#icon-file-text2'></use></svg></label><input id='data-827d7fa8-ec22-40b4-9215-f78a9bb21102' class='xr-var-data-in' type='checkbox'><label for='data-827d7fa8-ec22-40b4-9215-f78a9bb21102' title='Show/Hide data repr'><svg class='icon xr-icon-database'><use xlink:href='#icon-database'></use></svg></label><div class='xr-var-attrs'><dl class='xr-attrs'><dt><span>contentType :</span></dt><dd>referenceInformation</dd><dt><span>description :</span></dt><dd>The laser pulse counter is part of photon ID and counts from 1 to 200 and is reset for each new major frame.</dd><dt><span>long_name :</span></dt><dd>laser pulse counter</dd><dt><span>source :</span></dt><dd>Derived as part of Photon ID</dd><dt><span>units :</span></dt><dd>counts</dd></dl></div><div class='xr-var-data'><pre>[1848992 values with dtype=uint8]</pre></div></li><li class='xr-var-item'><div class='xr-var-name'><span>quality_ph</span></div><div class='xr-var-dims'>(delta_time)</div><div class='xr-var-dtype'>int8</div><div class='xr-var-preview xr-preview'>...</div><input id='attrs-9c1cdafa-6920-4b29-a959-f815cb3e8cab' class='xr-var-attrs-in' type='checkbox' ><label for='attrs-9c1cdafa-6920-4b29-a959-f815cb3e8cab' title='Show/Hide attributes'><svg class='icon xr-icon-file-text2'><use xlink:href='#icon-file-text2'></use></svg></label><input id='data-6a318f97-d7c7-4b98-b0cf-25121141b492' class='xr-var-data-in' type='checkbox'><label for='data-6a318f97-d7c7-4b98-b0cf-25121141b492' title='Show/Hide data repr'><svg class='icon xr-icon-database'><use xlink:href='#icon-database'></use></svg></label><div class='xr-var-attrs'><dl class='xr-attrs'><dt><span>contentType :</span></dt><dd>qualityInformation</dd><dt><span>description :</span></dt><dd>Indicates the quality of the associated photon. 0=nominal, 1=possible_afterpulse, 2=possible_impulse_response_effect, 3=possible_tep. Use this flag in conjunction with signal_conf_ph to identify those photons that are likely noise or likely signal.</dd><dt><span>flag_meanings :</span></dt><dd>nominal possible_afterpulse possible_impulse_response_effect possible_tep</dd><dt><span>flag_values :</span></dt><dd>[0 1 2 3]</dd><dt><span>long_name :</span></dt><dd>Photon Quality</dd><dt><span>source :</span></dt><dd>ATL03 ATBD</dd><dt><span>units :</span></dt><dd>1</dd><dt><span>valid_max :</span></dt><dd>3</dd><dt><span>valid_min :</span></dt><dd>0</dd></dl></div><div class='xr-var-data'><pre>[1848992 values with dtype=int8]</pre></div></li><li class='xr-var-item'><div class='xr-var-name'><span>signal_conf_ph</span></div><div class='xr-var-dims'>(delta_time, ds_surf_type)</div><div class='xr-var-dtype'>int8</div><div class='xr-var-preview xr-preview'>...</div><input id='attrs-0a503008-bf52-4936-9f0c-a77d451d748c' class='xr-var-attrs-in' type='checkbox' ><label for='attrs-0a503008-bf52-4936-9f0c-a77d451d748c' title='Show/Hide attributes'><svg class='icon xr-icon-file-text2'><use xlink:href='#icon-file-text2'></use></svg></label><input id='data-a6373f20-7955-4607-a3cb-edfef6e2201e' class='xr-var-data-in' type='checkbox'><label for='data-a6373f20-7955-4607-a3cb-edfef6e2201e' title='Show/Hide data repr'><svg class='icon xr-icon-database'><use xlink:href='#icon-database'></use></svg></label><div class='xr-var-attrs'><dl class='xr-attrs'><dt><span>contentType :</span></dt><dd>qualityInformation</dd><dt><span>description :</span></dt><dd>Confidence level associated with each photon event selected as signal. 0=noise. 1=added to allow for buffer but algorithm classifies as background; 2=low; 3=med; 4=high).  This parameter is a 5xN array where N is the number of photons in the granule, and the 5 rows indicate signal finding for each surface type (in order: land, ocean, sea ice, land ice and inland water). Events not associated with a specific surface type have a confidence level of -1. Events evaluated as TEP returns have a confidence level of -2.</dd><dt><span>flag_meanings :</span></dt><dd>possible_tep not_considered noise buffer low medium high</dd><dt><span>flag_values :</span></dt><dd>[-2 -1  0  1  2  3  4]</dd><dt><span>long_name :</span></dt><dd>Photon Signal Confidence</dd><dt><span>source :</span></dt><dd>ATL03 ATBD, Section 5, Conf</dd><dt><span>units :</span></dt><dd>1</dd><dt><span>valid_max :</span></dt><dd>4</dd><dt><span>valid_min :</span></dt><dd>-2</dd></dl></div><div class='xr-var-data'><pre>[9244960 values with dtype=int8]</pre></div></li><li class='xr-var-item'><div class='xr-var-name'><span>weight_ph</span></div><div class='xr-var-dims'>(delta_time)</div><div class='xr-var-dtype'>uint8</div><div class='xr-var-preview xr-preview'>...</div><input id='attrs-3c055e72-8ebc-46ab-b648-18bed6dafd8e' class='xr-var-attrs-in' type='checkbox' ><label for='attrs-3c055e72-8ebc-46ab-b648-18bed6dafd8e' title='Show/Hide attributes'><svg class='icon xr-icon-file-text2'><use xlink:href='#icon-file-text2'></use></svg></label><input id='data-fdc79179-9fa3-4d87-aef9-de26319e89b0' class='xr-var-data-in' type='checkbox'><label for='data-fdc79179-9fa3-4d87-aef9-de26319e89b0' title='Show/Hide data repr'><svg class='icon xr-icon-database'><use xlink:href='#icon-database'></use></svg></label><div class='xr-var-attrs'><dl class='xr-attrs'><dt><span>contentType :</span></dt><dd>modelResult</dd><dt><span>description :</span></dt><dd>Computed weight of each photon. The weight is calculated by a windowed KNN algorithm using the distances between each photon and its K nearest neighbors. Values range from 0 to 255 where 255 is the most heavily weighted photon and would be considered likely signal.</dd><dt><span>long_name :</span></dt><dd>Photon weight</dd><dt><span>source :</span></dt><dd>ATBD Section 5</dd><dt><span>units :</span></dt><dd>1</dd><dt><span>valid_max :</span></dt><dd>255</dd><dt><span>valid_min :</span></dt><dd>0</dd></dl></div><div class='xr-var-data'><pre>[1848992 values with dtype=uint8]</pre></div></li></ul></div></li><li class='xr-section-item'><input id='section-3fb64c33-9ffc-438e-90cb-acdd3ceb19aa' class='xr-section-summary-in' type='checkbox'  ><label for='section-3fb64c33-9ffc-438e-90cb-acdd3ceb19aa' class='xr-section-summary' >Indexes: <span>(1)</span></label><div class='xr-section-inline-details'></div><div class='xr-section-details'><ul class='xr-var-list'><li class='xr-var-item'><div class='xr-index-name'><div>delta_time</div></div><div class='xr-index-preview'>PandasIndex</div><div></div><input id='index-199f062e-75e7-4f60-a2e0-7051bd50e27e' class='xr-index-data-in' type='checkbox'/><label for='index-199f062e-75e7-4f60-a2e0-7051bd50e27e' title='Show/Hide index repr'><svg class='icon xr-icon-database'><use xlink:href='#icon-database'></use></svg></label><div class='xr-index-data'><pre>PandasIndex(DatetimeIndex([&#x27;2020-04-27 19:39:45.849764816&#x27;,\n",
       "               &#x27;2020-04-27 19:39:45.849764816&#x27;,\n",
       "               &#x27;2020-04-27 19:39:45.849764816&#x27;,\n",
       "               &#x27;2020-04-27 19:39:45.849864816&#x27;,\n",
       "               &#x27;2020-04-27 19:39:45.849864816&#x27;,\n",
       "               &#x27;2020-04-27 19:39:45.849864816&#x27;,\n",
       "               &#x27;2020-04-27 19:39:45.849864816&#x27;,\n",
       "               &#x27;2020-04-27 19:39:45.849964816&#x27;,\n",
       "               &#x27;2020-04-27 19:39:45.849964816&#x27;,\n",
       "               &#x27;2020-04-27 19:39:45.849964816&#x27;,\n",
       "               ...\n",
       "               &#x27;2020-04-27 19:40:01.537465200&#x27;,\n",
       "               &#x27;2020-04-27 19:40:01.537565200&#x27;,\n",
       "               &#x27;2020-04-27 19:40:01.537565200&#x27;,\n",
       "               &#x27;2020-04-27 19:40:01.537565200&#x27;,\n",
       "               &#x27;2020-04-27 19:40:01.537565200&#x27;,\n",
       "               &#x27;2020-04-27 19:40:01.537565200&#x27;,\n",
       "               &#x27;2020-04-27 19:40:01.537565200&#x27;,\n",
       "               &#x27;2020-04-27 19:40:01.537665200&#x27;,\n",
       "               &#x27;2020-04-27 19:40:01.537665200&#x27;,\n",
       "               &#x27;2020-04-27 19:40:01.537665200&#x27;],\n",
       "              dtype=&#x27;datetime64[ns]&#x27;, name=&#x27;delta_time&#x27;, length=1848992, freq=None))</pre></div></li></ul></div></li><li class='xr-section-item'><input id='section-d05603c2-c2b4-4f34-801b-cde32b0c9c3b' class='xr-section-summary-in' type='checkbox'  checked><label for='section-d05603c2-c2b4-4f34-801b-cde32b0c9c3b' class='xr-section-summary' >Attributes: <span>(2)</span></label><div class='xr-section-inline-details'></div><div class='xr-section-details'><dl class='xr-attrs'><dt><span>Description :</span></dt><dd>Contains arrays of the parameters for each received photon.</dd><dt><span>data_rate :</span></dt><dd>Data are stored at the photon detection rate.</dd></dl></div></li></ul></div></div>"
      ],
      "text/plain": [
       "<xarray.Dataset> Size: 92MB\n",
       "Dimensions:         (delta_time: 1848992, ds_surf_type: 5)\n",
       "Coordinates:\n",
       "  * delta_time      (delta_time) datetime64[ns] 15MB 2020-04-27T19:39:45.8497...\n",
       "    lat_ph          (delta_time) float64 15MB ...\n",
       "    lon_ph          (delta_time) float64 15MB ...\n",
       "Dimensions without coordinates: ds_surf_type\n",
       "Data variables:\n",
       "    dist_ph_across  (delta_time) float32 7MB ...\n",
       "    dist_ph_along   (delta_time) float32 7MB ...\n",
       "    h_ph            (delta_time) float32 7MB ...\n",
       "    pce_mframe_cnt  (delta_time) uint32 7MB ...\n",
       "    ph_id_channel   (delta_time) uint8 2MB ...\n",
       "    ph_id_count     (delta_time) uint8 2MB ...\n",
       "    ph_id_pulse     (delta_time) uint8 2MB ...\n",
       "    quality_ph      (delta_time) int8 2MB ...\n",
       "    signal_conf_ph  (delta_time, ds_surf_type) int8 9MB ...\n",
       "    weight_ph       (delta_time) uint8 2MB ...\n",
       "Attributes:\n",
       "    Description:  Contains arrays of the parameters for each received photon.\n",
       "    data_rate:    Data are stored at the photon detection rate."
      ]
     },
     "execution_count": 18,
     "metadata": {},
     "output_type": "execute_result"
    }
   ],
   "source": [
    "ds = xr.open_dataset(f[0], group='gt1l/heights')\n",
    "ds"
   ]
  },
  {
   "cell_type": "markdown",
   "id": "43f8125f-8e99-4fe9-a7cb-62a10295b21d",
   "metadata": {},
   "source": [
    "## Appendices"
   ]
  },
  {
   "cell_type": "markdown",
   "id": "ba0d2015-f342-4987-aa16-e0b67b6e35b3",
   "metadata": {},
   "source": [
    "### A. Handling large requests\n",
    "\n",
    "Need to explain large-jobs and previews, pausing\n",
    "\n",
    "https://github.com/nasa/harmony-py/blob/main/examples/job_pause_resume.ipynb\n",
    "\n",
    "By default Harmony will only process first 300 granules\n",
    "\n",
    "https://harmony.earthdata.nasa.gov/docs#skipping-preview"
   ]
  },
  {
   "cell_type": "code",
   "execution_count": 23,
   "id": "7ca0b14a-7f6d-40f4-8eeb-b7f871a851da",
   "metadata": {},
   "outputs": [
    {
     "data": {
      "text/plain": [
       "{'status': 'running',\n",
       " 'message': 'The job is being processed',\n",
       " 'progress': 0,\n",
       " 'created_at': datetime.datetime(2024, 10, 29, 22, 14, 21, 784000, tzinfo=tzlocal()),\n",
       " 'updated_at': datetime.datetime(2024, 10, 29, 22, 14, 21, 784000, tzinfo=tzlocal()),\n",
       " 'created_at_local': '2024-10-29T22:14:21+00:00',\n",
       " 'updated_at_local': '2024-10-29T22:14:21+00:00',\n",
       " 'request': 'https://harmony.earthdata.nasa.gov/C2596864127-NSIDC_CPRD/ogc-api-coverages/1.0.0/collections/all/coverage/rangeset?forceAsync=true&subset=lat(40%3A41.0)&subset=lon(-105.5%3A-105)',\n",
       " 'num_input_granules': 134,\n",
       " 'data_expiration': datetime.datetime(2024, 11, 28, 22, 14, 21, 784000, tzinfo=tzlocal()),\n",
       " 'data_expiration_local': '2024-11-28T22:14:21+00:00'}"
      ]
     },
     "execution_count": 23,
     "metadata": {},
     "output_type": "execute_result"
    }
   ],
   "source": [
    "request = Request(\n",
    "  collection = Collection(id=capabilities[\"conceptId\"]),\n",
    "  spatial=BBox(-105.5,40,-105,41.),\n",
    "  # temporal={\n",
    "  #   'start': dt.datetime(2020, 4, 27),\n",
    "  #   'stop': dt.datetime(2020, 5, 28)\n",
    "  # }\n",
    ")\n",
    "job_id = harmony_client.submit(request)\n",
    "harmony_client.status(job_id)"
   ]
  },
  {
   "cell_type": "code",
   "execution_count": 24,
   "id": "00b36a4a-d673-45d5-b0a4-9c7bba958852",
   "metadata": {},
   "outputs": [
    {
     "name": "stderr",
     "output_type": "stream",
     "text": [
      " [ Processing:  80% ] |########################################           | [/]\n",
      "Job is running with errors.\n",
      " [ Processing: 100% ] |###################################################| [|]\n"
     ]
    }
   ],
   "source": [
    "harmony_client.wait_for_processing(job_id, show_progress=True)"
   ]
  },
  {
   "cell_type": "code",
   "execution_count": 25,
   "id": "6710674d-d124-4b9d-9a39-265b65baa749",
   "metadata": {},
   "outputs": [
    {
     "data": {
      "text/plain": [
       "{'status': 'complete_with_errors',\n",
       " 'message': 'The job has completed with errors. See the errors field for more details',\n",
       " 'progress': 100,\n",
       " 'created_at': datetime.datetime(2024, 10, 29, 22, 14, 21, 784000, tzinfo=tzlocal()),\n",
       " 'updated_at': datetime.datetime(2024, 10, 29, 22, 29, 32, 444000, tzinfo=tzlocal()),\n",
       " 'created_at_local': '2024-10-29T22:14:21+00:00',\n",
       " 'updated_at_local': '2024-10-29T22:29:32+00:00',\n",
       " 'request': 'https://harmony.earthdata.nasa.gov/C2596864127-NSIDC_CPRD/ogc-api-coverages/1.0.0/collections/all/coverage/rangeset?forceAsync=true&subset=lat(40%3A41.0)&subset=lon(-105.5%3A-105)',\n",
       " 'num_input_granules': 134,\n",
       " 'data_expiration': datetime.datetime(2024, 11, 28, 22, 14, 21, 784000, tzinfo=tzlocal()),\n",
       " 'data_expiration_local': '2024-11-28T22:14:21+00:00',\n",
       " 'errors': [{'url': 'https://data.nsidc.earthdatacloud.nasa.gov/nsidc-cumulus-prod-protected/ATLAS/ATL03/006/2023/08/20/ATL03_20230820094935_09352002_006_02.h5',\n",
       "   'message': 'WorkItem failed: sds/trajectory-subsetter:0.1.21: L2 Trajectory Subsetter failed with error: No data found that matched subset constraints.'},\n",
       "  {'url': 'https://data.nsidc.earthdatacloud.nasa.gov/nsidc-cumulus-prod-protected/ATLAS/ATL03/006/2020/08/25/ATL03_20200825135211_09350802_006_01.h5',\n",
       "   'message': 'WorkItem failed: sds/trajectory-subsetter:0.1.21: L2 Trajectory Subsetter failed with error: No data found that matched subset constraints.'},\n",
       "  {'url': 'https://data.nsidc.earthdatacloud.nasa.gov/nsidc-cumulus-prod-protected/ATLAS/ATL03/006/2018/11/28/ATL03_20181128201334_09350102_006_02.h5',\n",
       "   'message': 'WorkItem failed: sds/trajectory-subsetter:0.1.21: L2 Trajectory Subsetter failed with error: No data found that matched subset constraints.'},\n",
       "  {'url': 'https://data.nsidc.earthdatacloud.nasa.gov/nsidc-cumulus-prod-protected/ATLAS/ATL03/006/2022/11/20/ATL03_20221120225059_09351702_006_02.h5',\n",
       "   'message': 'WorkItem failed: sds/trajectory-subsetter:0.1.21: L2 Trajectory Subsetter failed with error: No data found that matched subset constraints.'},\n",
       "  {'url': 'https://data.nsidc.earthdatacloud.nasa.gov/nsidc-cumulus-prod-protected/ATLAS/ATL03/006/2021/02/21/ATL03_20210221172745_09121006_006_01.h5',\n",
       "   'message': 'WorkItem failed: sds/trajectory-subsetter:0.1.21: L2 Trajectory Subsetter failed with error: No data found that matched subset constraints.'}]}"
      ]
     },
     "execution_count": 25,
     "metadata": {},
     "output_type": "execute_result"
    }
   ],
   "source": [
    "harmony_client.status(job_id)"
   ]
  },
  {
   "cell_type": "markdown",
   "id": "bdbaa61e-7ecb-4826-9986-1893784d98c7",
   "metadata": {},
   "source": [
    "### B. Translating requests\n",
    "\n",
    "`harmony-py` is an interface to the Harmony RESTful API.  RESTful API send requests and receive responses via HTTPS; the same protocol that serves web pages.  Requests are sent to service endpoints, which is a URL (e.g. `https://service.endpoint.com/type_of_service`).  Query parameters that modify a request can be appended a key-value pairs after a `?`.  Each key-value pair is separated by an &.  For example:\n",
    "\n",
    "```\n",
    "https://service.endpoint.com/type_of_service?param1=value1&param2=value2\n",
    "```\n",
    "\n",
    "This url could be entered into a web browser.\n",
    "\n",
    "The Harmony client has a `request_as_url` method that returns the request created by `CapabilitiesRequest` or `Request`"
   ]
  },
  {
   "cell_type": "code",
   "execution_count": 10,
   "id": "8edb5214-427e-41a7-8f8a-a66da9cb6020",
   "metadata": {},
   "outputs": [
    {
     "data": {
      "text/plain": [
       "'https://harmony.uat.earthdata.nasa.gov/capabilities?shortname=ATL03'"
      ]
     },
     "execution_count": 10,
     "metadata": {},
     "output_type": "execute_result"
    }
   ],
   "source": [
    "harmony_client.request_as_url(capabilities_request)"
   ]
  },
  {
   "cell_type": "code",
   "execution_count": 11,
   "id": "8eff95b3-c77a-4647-ab02-f6d81f434a00",
   "metadata": {},
   "outputs": [
    {
     "data": {
      "text/plain": [
       "'https://harmony.uat.earthdata.nasa.gov/C1256407609-NSIDC_CUAT/ogc-api-coverages/1.0.0/collections/parameter_vars/coverage/rangeset?forceAsync=true&subset=lat%2840%3A41.0%29&subset=lon%28-105.5%3A-105%29&subset=time%28%222020-04-27T00%3A00%3A00%22%3A%222020-05-28T00%3A00%3A00%22%29&variable=all'"
      ]
     },
     "execution_count": 11,
     "metadata": {},
     "output_type": "execute_result"
    }
   ],
   "source": [
    "harmony_client.request_as_url(request)"
   ]
  },
  {
   "cell_type": "markdown",
   "id": "5a4604c4-80bb-4666-be54-57564ca427dd",
   "metadata": {},
   "source": [
    "Try pasting the URL in the output cell below into a web browser to see the response."
   ]
  },
  {
   "cell_type": "markdown",
   "id": "ef3140c9-4285-47af-9fe8-98a411043cdb",
   "metadata": {},
   "source": [
    "Harmony requests can also be sent with `curl`, a library and command line tool for transfering data using various network protocols, including HTTPS.  The `request_as_curl` method can be used to generate a curl command.  This can be helpful if you want to automate a process outside of a Jupyter Notebook or for testing requests."
   ]
  },
  {
   "cell_type": "code",
   "execution_count": 12,
   "id": "356149e4-5da4-4c94-962a-663621e36c78",
   "metadata": {},
   "outputs": [
    {
     "data": {
      "text/plain": [
       "\"curl -X GET -H 'Accept: */*' -H 'Accept-Encoding: gzip, deflate, br' -H 'Authorization: *****' -H 'Connection: keep-alive' -H 'Cookie: uat_urs_user_already_logged=yes; state=s%3A7893b9a533c0a171525bc82a3693d9b5.XXQF2YV1GMxMt5SI%2BEQy05yxJC8KLMzUQRbpfAi1MqY; token=*****; _urs_uat-gui_session=fb95333993ef92e65ff1fe8efd4e7449' -H 'User-Agent: CPython/3.10.14 Linux/5.10.224-212.876.amzn2.x86_64 harmony-py/0.5.0 python-requests/2.32.3' 'https://harmony.uat.earthdata.nasa.gov/capabilities?shortname=ATL03'\""
      ]
     },
     "execution_count": 12,
     "metadata": {},
     "output_type": "execute_result"
    }
   ],
   "source": [
    "harmony_client.request_as_curl(capabilities_request)"
   ]
  },
  {
   "cell_type": "code",
   "execution_count": 13,
   "id": "40d1655b-6b36-485d-8188-70b6d2e28361",
   "metadata": {},
   "outputs": [
    {
     "data": {
      "text/plain": [
       "'curl -X POST -H \\'Accept: */*\\' -H \\'Accept-Encoding: gzip, deflate, br\\' -H \\'Authorization: *****\\' -H \\'Connection: keep-alive\\' -H \\'Content-Length: 563\\' -H \\'Content-Type: multipart/form-data; boundary=fa4d368a0e27040358124f0e030b456b\\' -H \\'Cookie: uat_urs_user_already_logged=yes; state=s%3A7893b9a533c0a171525bc82a3693d9b5.XXQF2YV1GMxMt5SI%2BEQy05yxJC8KLMzUQRbpfAi1MqY; token=*****; _urs_uat-gui_session=fb95333993ef92e65ff1fe8efd4e7449\\' -H \\'User-Agent: CPython/3.10.14 Linux/5.10.224-212.876.amzn2.x86_64 harmony-py/0.5.0 python-requests/2.32.3\\' -d \\'--fa4d368a0e27040358124f0e030b456b\\r\\nContent-Disposition: form-data; name=\"forceAsync\"\\r\\n\\r\\ntrue\\r\\n--fa4d368a0e27040358124f0e030b456b\\r\\nContent-Disposition: form-data; name=\"subset\"\\r\\n\\r\\nlat(40:41.0)\\r\\n--fa4d368a0e27040358124f0e030b456b\\r\\nContent-Disposition: form-data; name=\"subset\"\\r\\n\\r\\nlon(-105.5:-105)\\r\\n--fa4d368a0e27040358124f0e030b456b\\r\\nContent-Disposition: form-data; name=\"subset\"\\r\\n\\r\\ntime(\"2020-04-27T00:00:00\":\"2020-05-28T00:00:00\")\\r\\n--fa4d368a0e27040358124f0e030b456b\\r\\nContent-Disposition: form-data; name=\"variable\"\\r\\n\\r\\nall\\r\\n--fa4d368a0e27040358124f0e030b456b--\\r\\n\\' https://harmony.uat.earthdata.nasa.gov/C1256407609-NSIDC_CUAT/ogc-api-coverages/1.0.0/collections/parameter_vars/coverage/rangeset'"
      ]
     },
     "execution_count": 13,
     "metadata": {},
     "output_type": "execute_result"
    }
   ],
   "source": [
    "harmony_client.request_as_curl(request)"
   ]
  },
  {
   "cell_type": "markdown",
   "id": "09b9bbce-cfee-40c3-8fb6-f7844d34ad15",
   "metadata": {},
   "source": []
  }
 ],
 "metadata": {
  "kernelspec": {
   "display_name": "Python 3 (ipykernel)",
   "language": "python",
   "name": "python3"
  },
  "language_info": {
   "codemirror_mode": {
    "name": "ipython",
    "version": 3
   },
   "file_extension": ".py",
   "mimetype": "text/x-python",
   "name": "python",
   "nbconvert_exporter": "python",
   "pygments_lexer": "ipython3",
   "version": "3.10.14"
  }
 },
 "nbformat": 4,
 "nbformat_minor": 5
}
