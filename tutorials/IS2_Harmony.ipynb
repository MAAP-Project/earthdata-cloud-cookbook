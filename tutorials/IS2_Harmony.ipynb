{
 "cells": [
  {
   "cell_type": "raw",
   "id": "54e9415f-f1de-4957-8580-252df5813eb8",
   "metadata": {},
   "source": [
    "---\n",
    "title: \"Subsetting ICESat-2 Data Using NASA Harmony\"\n",
    "aliases:\n",
    "  - /tutorials/IS2_Harmony.html\n",
    "---"
   ]
  },
  {
   "cell_type": "markdown",
   "id": "b35db394-c8ba-4263-b7ba-0c1e8f8453b0",
   "metadata": {},
   "source": [
    "## Summary\n",
    "\n",
    "We will find, request, and open subsetted ICESat-2 data using NASA Harmony. Add blub on what Harmony is, and link to Harmony docs."
   ]
  },
  {
   "cell_type": "markdown",
   "id": "c43422fe-ae4a-40ea-9edf-11fa30596165",
   "metadata": {},
   "source": [
    "## Learning Objectives\n",
    "\n",
    "1. Conceptualize data subsetting services provided by Harmony.\n",
    "2. Discover what service options exist for a given ICESat-2 dataset.\n",
    "3. Utilize the `harmony-py` library to request subsetted ATL03 data over _insert area_ during _insert date_\n",
    "5. Read Harmony subsetted outputs directly into xarray."
   ]
  },
  {
   "cell_type": "markdown",
   "id": "c8a95244-4d35-4cde-b711-7d2e0ec8d580",
   "metadata": {},
   "source": [
    "## Prerequisites\n",
    "\n",
    "First we’ll import python packages and set up the authentication needed for requesting ICESat-2 subsets. \n",
    "\n",
    "Data in NASA’s Earthdata Cloud, including the subsetted data processed by Harmony, reside in Amazon Web Services (AWS) Simple Storage Service (S3) buckets. Access is provided via temporary credentials; this free access is limited to requests made within the US West (Oregon) (code: us-west-2) AWS region. While this compute location is required for direct S3 access, all data in Earthdata Cloud are still freely available via download.\n",
    "\n",
    "This tutorial will demonstrate both download and direct s3 access methods. For the latter method to work, you will need to be running this notebook in the AWS us-west-2 region. \n",
    "\n",
    "### Import Required Packages"
   ]
  },
  {
   "cell_type": "code",
   "execution_count": 5,
   "id": "9d8e9be7-c7ab-4e87-baae-0d516e1d9a37",
   "metadata": {},
   "outputs": [],
   "source": [
    "# Earthdata Login Authentication\n",
    "import earthaccess \n",
    "\n",
    "# Harmony services\n",
    "from harmony import BBox, Client, Collection, Request, LinkType\n",
    "import datetime as dt\n",
    "from pprint import pprint\n",
    "import s3fs\n",
    "import xarray as xr"
   ]
  },
  {
   "cell_type": "markdown",
   "id": "f522e1a5-ea40-444f-b1a5-ce4338c58d75",
   "metadata": {},
   "source": [
    "## Discover service options for a given data set\n",
    "\n",
    "Add capabilities endpoint guidance here. Adopt from https://github.com/nasa/harmony-py/blob/main/examples/collection_capabilities.ipynb "
   ]
  },
  {
   "cell_type": "markdown",
   "id": "43316940-28e2-4e8f-898e-7302cafc82ca",
   "metadata": {},
   "source": [
    "## Login to NASA Earthdata\n",
    "\n",
    "An [Earthdata Login](https://urs.earthdata.nasa.gov) account is required to access data from the NASA Earthdata system. Before requesting a subset of ICESat-2 data, we first need to set up our Earthdata Login authentication.\n",
    "\n",
    "The `earthaccess.login()` method will automatically search for these credentials as environment variables or in a `.netrc` file, and if those aren't available it will prompt us to enter our username and password. We use a `.netrc` strategy. A `.netrc` file is a text file located in our home directory that contains login information for remote machines. If we don't have a `.netrc` file, login can create one for us.\n",
    "\n",
    "`earthaccess.login(strategy='interactive', persist=True)`"
   ]
  },
  {
   "cell_type": "code",
   "execution_count": 3,
   "id": "800bf1d0-ba1a-45cf-bdf6-2af2f3707256",
   "metadata": {},
   "outputs": [],
   "source": [
    "auth = earthaccess.login()"
   ]
  },
  {
   "cell_type": "markdown",
   "id": "258e04a7-4b96-4652-b523-9bbdef9f7f06",
   "metadata": {},
   "source": [
    "## Using `harmony-py` to subset data\n",
    "\n",
    "[`harmony-py`](https://github.com/nasa/harmony-py) provides a pip installable Python alternative to directly using Harmony’s RESTful API to make it easier to request data and service options, especially when interacting within a Python Jupyter Notebook environment."
   ]
  },
  {
   "cell_type": "markdown",
   "id": "319cd4c7-0b3c-4571-97d2-02c344aba418",
   "metadata": {},
   "source": [
    "### Create A Subset Request\n",
    "\n",
    "Here we’ll create a request for a spatial subset of data.\n",
    "\n",
    "First, we need to create a Harmony Client, which is what we will interact with to submit and inspect a data request to Harmony, as well as to retrieve results.\n",
    "\n",
    "When creating the Client, we need to provide Earthdata Login credentials. This basic line below assumes that we have a .netrc available. See the Earthdata Cloud Cookbook appendix for more information on Earthdata Login and netrc setup."
   ]
  },
  {
   "cell_type": "code",
   "execution_count": 4,
   "id": "4f2c2fcb-f79e-4da4-9c73-db065d995cd5",
   "metadata": {},
   "outputs": [],
   "source": [
    "harmony_client = Client()"
   ]
  },
  {
   "cell_type": "markdown",
   "id": "c1b953ba-e8cd-486f-8132-6cdbb69b656c",
   "metadata": {},
   "source": [
    "See the [harmony-py](https://harmony-py.readthedocs.io/en/latest/) documentation for details on how to construct your request.\n",
    "\n",
    "UPDATE example below to use ICESat-2:"
   ]
  },
  {
   "cell_type": "code",
   "execution_count": null,
   "id": "5bb08390-ddb0-4356-905e-c0a3244b9247",
   "metadata": {},
   "outputs": [],
   "source": [
    "sst_short_name=\"MUR-JPL-L4-GLOB-v4.1\"\n",
    "\n",
    "request = Request(\n",
    "    collection=Collection(id=sst_short_name),\n",
    "    shape=geojson_path,\n",
    "    temporal={\n",
    "    'start': dt.datetime(2021, 8, 1, 1),\n",
    "    'stop': dt.datetime(2021, 8, 1, 2)   \n",
    "    },\n",
    ")"
   ]
  },
  {
   "cell_type": "markdown",
   "id": "34e01d68-0fd5-47c9-8757-d3fdc760dcf9",
   "metadata": {},
   "source": [
    "### Submit a subset request"
   ]
  },
  {
   "cell_type": "code",
   "execution_count": null,
   "id": "c1c312bc-a986-4ebd-951f-c0d11208d19f",
   "metadata": {},
   "outputs": [],
   "source": [
    "job_id = harmony_client.submit(request)\n",
    "job_id"
   ]
  },
  {
   "cell_type": "markdown",
   "id": "53982496-f3a6-4c46-a61f-f164157e119a",
   "metadata": {},
   "source": [
    "### Check request status"
   ]
  },
  {
   "cell_type": "code",
   "execution_count": null,
   "id": "9b253c1e-da1e-4d14-883d-7fbd87834133",
   "metadata": {},
   "outputs": [],
   "source": [
    "harmony_client.wait_for_processing(job_id, show_progress=True)"
   ]
  },
  {
   "cell_type": "code",
   "execution_count": null,
   "id": "be41beda-a445-419f-9af2-080fb7e7b1d3",
   "metadata": {},
   "outputs": [],
   "source": [
    "data = harmony_client.result_json(job_id)\n",
    "pprint(data)"
   ]
  },
  {
   "cell_type": "markdown",
   "id": "421391bc-f996-4dbb-a69d-ac7d40d67243",
   "metadata": {},
   "source": [
    "### Access data\n",
    "\n",
    "We will demonstrate both download and direct s3 access options below."
   ]
  },
  {
   "cell_type": "code",
   "execution_count": null,
   "id": "8860630c-2050-4256-88c2-f1879456a9a1",
   "metadata": {},
   "outputs": [],
   "source": []
  }
 ],
 "metadata": {
  "kernelspec": {
   "display_name": "Python 3 (ipykernel)",
   "language": "python",
   "name": "python3"
  },
  "language_info": {
   "codemirror_mode": {
    "name": "ipython",
    "version": 3
   },
   "file_extension": ".py",
   "mimetype": "text/x-python",
   "name": "python",
   "nbconvert_exporter": "python",
   "pygments_lexer": "ipython3",
   "version": "3.10.14"
  }
 },
 "nbformat": 4,
 "nbformat_minor": 5
}
